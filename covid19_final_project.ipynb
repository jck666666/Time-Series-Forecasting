{
  "nbformat": 4,
  "nbformat_minor": 0,
  "metadata": {
    "colab": {
      "name": "final project.ipynb 的副本2",
      "provenance": [],
      "collapsed_sections": []
    },
    "kernelspec": {
      "name": "python3",
      "display_name": "Python 3"
    },
    "language_info": {
      "name": "python"
    }
  },
  "cells": [
    {
      "cell_type": "code",
      "source": [
        "from google.colab import drive\n",
        "drive.mount('/content/drive')"
      ],
      "metadata": {
        "colab": {
          "base_uri": "https://localhost:8080/"
        },
        "id": "5H_huunYTWQK",
        "outputId": "ecb47c02-92a0-4aeb-cfb3-def298600ac5"
      },
      "execution_count": null,
      "outputs": [
        {
          "output_type": "stream",
          "name": "stdout",
          "text": [
            "Drive already mounted at /content/drive; to attempt to forcibly remount, call drive.mount(\"/content/drive\", force_remount=True).\n"
          ]
        }
      ]
    },
    {
      "cell_type": "code",
      "execution_count": null,
      "metadata": {
        "id": "Pn7wwSnfHpJo"
      },
      "outputs": [],
      "source": [
        "import pandas as pd\n",
        "import numpy as np \n",
        "import matplotlib.pyplot as plt"
      ]
    },
    {
      "cell_type": "code",
      "source": [
        "df = pd.read_csv('/content/drive/MyDrive/covid_19_data.csv')"
      ],
      "metadata": {
        "id": "dzsGM-T_OMCc"
      },
      "execution_count": null,
      "outputs": []
    },
    {
      "cell_type": "code",
      "source": [
        "df"
      ],
      "metadata": {
        "id": "5SFlcRzXOePu",
        "colab": {
          "base_uri": "https://localhost:8080/",
          "height": 423
        },
        "outputId": "42b03704-85ad-4cb7-d278-556d0e1850b8"
      },
      "execution_count": null,
      "outputs": [
        {
          "output_type": "execute_result",
          "data": {
            "text/html": [
              "\n",
              "  <div id=\"df-67a34ae8-7ec6-4dfa-8825-59e7b0be2d68\">\n",
              "    <div class=\"colab-df-container\">\n",
              "      <div>\n",
              "<style scoped>\n",
              "    .dataframe tbody tr th:only-of-type {\n",
              "        vertical-align: middle;\n",
              "    }\n",
              "\n",
              "    .dataframe tbody tr th {\n",
              "        vertical-align: top;\n",
              "    }\n",
              "\n",
              "    .dataframe thead th {\n",
              "        text-align: right;\n",
              "    }\n",
              "</style>\n",
              "<table border=\"1\" class=\"dataframe\">\n",
              "  <thead>\n",
              "    <tr style=\"text-align: right;\">\n",
              "      <th></th>\n",
              "      <th>SNo</th>\n",
              "      <th>ObservationDate</th>\n",
              "      <th>Province/State</th>\n",
              "      <th>Country/Region</th>\n",
              "      <th>Last Update</th>\n",
              "      <th>Confirmed</th>\n",
              "      <th>Deaths</th>\n",
              "      <th>Recovered</th>\n",
              "    </tr>\n",
              "  </thead>\n",
              "  <tbody>\n",
              "    <tr>\n",
              "      <th>0</th>\n",
              "      <td>1</td>\n",
              "      <td>01/22/2020</td>\n",
              "      <td>Anhui</td>\n",
              "      <td>Mainland China</td>\n",
              "      <td>1/22/2020 17:00</td>\n",
              "      <td>1.0</td>\n",
              "      <td>0.0</td>\n",
              "      <td>0.0</td>\n",
              "    </tr>\n",
              "    <tr>\n",
              "      <th>1</th>\n",
              "      <td>2</td>\n",
              "      <td>01/22/2020</td>\n",
              "      <td>Beijing</td>\n",
              "      <td>Mainland China</td>\n",
              "      <td>1/22/2020 17:00</td>\n",
              "      <td>14.0</td>\n",
              "      <td>0.0</td>\n",
              "      <td>0.0</td>\n",
              "    </tr>\n",
              "    <tr>\n",
              "      <th>2</th>\n",
              "      <td>3</td>\n",
              "      <td>01/22/2020</td>\n",
              "      <td>Chongqing</td>\n",
              "      <td>Mainland China</td>\n",
              "      <td>1/22/2020 17:00</td>\n",
              "      <td>6.0</td>\n",
              "      <td>0.0</td>\n",
              "      <td>0.0</td>\n",
              "    </tr>\n",
              "    <tr>\n",
              "      <th>3</th>\n",
              "      <td>4</td>\n",
              "      <td>01/22/2020</td>\n",
              "      <td>Fujian</td>\n",
              "      <td>Mainland China</td>\n",
              "      <td>1/22/2020 17:00</td>\n",
              "      <td>1.0</td>\n",
              "      <td>0.0</td>\n",
              "      <td>0.0</td>\n",
              "    </tr>\n",
              "    <tr>\n",
              "      <th>4</th>\n",
              "      <td>5</td>\n",
              "      <td>01/22/2020</td>\n",
              "      <td>Gansu</td>\n",
              "      <td>Mainland China</td>\n",
              "      <td>1/22/2020 17:00</td>\n",
              "      <td>0.0</td>\n",
              "      <td>0.0</td>\n",
              "      <td>0.0</td>\n",
              "    </tr>\n",
              "    <tr>\n",
              "      <th>...</th>\n",
              "      <td>...</td>\n",
              "      <td>...</td>\n",
              "      <td>...</td>\n",
              "      <td>...</td>\n",
              "      <td>...</td>\n",
              "      <td>...</td>\n",
              "      <td>...</td>\n",
              "      <td>...</td>\n",
              "    </tr>\n",
              "    <tr>\n",
              "      <th>306424</th>\n",
              "      <td>306425</td>\n",
              "      <td>05/29/2021</td>\n",
              "      <td>Zaporizhia Oblast</td>\n",
              "      <td>Ukraine</td>\n",
              "      <td>2021-05-30 04:20:55</td>\n",
              "      <td>102641.0</td>\n",
              "      <td>2335.0</td>\n",
              "      <td>95289.0</td>\n",
              "    </tr>\n",
              "    <tr>\n",
              "      <th>306425</th>\n",
              "      <td>306426</td>\n",
              "      <td>05/29/2021</td>\n",
              "      <td>Zeeland</td>\n",
              "      <td>Netherlands</td>\n",
              "      <td>2021-05-30 04:20:55</td>\n",
              "      <td>29147.0</td>\n",
              "      <td>245.0</td>\n",
              "      <td>0.0</td>\n",
              "    </tr>\n",
              "    <tr>\n",
              "      <th>306426</th>\n",
              "      <td>306427</td>\n",
              "      <td>05/29/2021</td>\n",
              "      <td>Zhejiang</td>\n",
              "      <td>Mainland China</td>\n",
              "      <td>2021-05-30 04:20:55</td>\n",
              "      <td>1364.0</td>\n",
              "      <td>1.0</td>\n",
              "      <td>1324.0</td>\n",
              "    </tr>\n",
              "    <tr>\n",
              "      <th>306427</th>\n",
              "      <td>306428</td>\n",
              "      <td>05/29/2021</td>\n",
              "      <td>Zhytomyr Oblast</td>\n",
              "      <td>Ukraine</td>\n",
              "      <td>2021-05-30 04:20:55</td>\n",
              "      <td>87550.0</td>\n",
              "      <td>1738.0</td>\n",
              "      <td>83790.0</td>\n",
              "    </tr>\n",
              "    <tr>\n",
              "      <th>306428</th>\n",
              "      <td>306429</td>\n",
              "      <td>05/29/2021</td>\n",
              "      <td>Zuid-Holland</td>\n",
              "      <td>Netherlands</td>\n",
              "      <td>2021-05-30 04:20:55</td>\n",
              "      <td>391559.0</td>\n",
              "      <td>4252.0</td>\n",
              "      <td>0.0</td>\n",
              "    </tr>\n",
              "  </tbody>\n",
              "</table>\n",
              "<p>306429 rows × 8 columns</p>\n",
              "</div>\n",
              "      <button class=\"colab-df-convert\" onclick=\"convertToInteractive('df-67a34ae8-7ec6-4dfa-8825-59e7b0be2d68')\"\n",
              "              title=\"Convert this dataframe to an interactive table.\"\n",
              "              style=\"display:none;\">\n",
              "        \n",
              "  <svg xmlns=\"http://www.w3.org/2000/svg\" height=\"24px\"viewBox=\"0 0 24 24\"\n",
              "       width=\"24px\">\n",
              "    <path d=\"M0 0h24v24H0V0z\" fill=\"none\"/>\n",
              "    <path d=\"M18.56 5.44l.94 2.06.94-2.06 2.06-.94-2.06-.94-.94-2.06-.94 2.06-2.06.94zm-11 1L8.5 8.5l.94-2.06 2.06-.94-2.06-.94L8.5 2.5l-.94 2.06-2.06.94zm10 10l.94 2.06.94-2.06 2.06-.94-2.06-.94-.94-2.06-.94 2.06-2.06.94z\"/><path d=\"M17.41 7.96l-1.37-1.37c-.4-.4-.92-.59-1.43-.59-.52 0-1.04.2-1.43.59L10.3 9.45l-7.72 7.72c-.78.78-.78 2.05 0 2.83L4 21.41c.39.39.9.59 1.41.59.51 0 1.02-.2 1.41-.59l7.78-7.78 2.81-2.81c.8-.78.8-2.07 0-2.86zM5.41 20L4 18.59l7.72-7.72 1.47 1.35L5.41 20z\"/>\n",
              "  </svg>\n",
              "      </button>\n",
              "      \n",
              "  <style>\n",
              "    .colab-df-container {\n",
              "      display:flex;\n",
              "      flex-wrap:wrap;\n",
              "      gap: 12px;\n",
              "    }\n",
              "\n",
              "    .colab-df-convert {\n",
              "      background-color: #E8F0FE;\n",
              "      border: none;\n",
              "      border-radius: 50%;\n",
              "      cursor: pointer;\n",
              "      display: none;\n",
              "      fill: #1967D2;\n",
              "      height: 32px;\n",
              "      padding: 0 0 0 0;\n",
              "      width: 32px;\n",
              "    }\n",
              "\n",
              "    .colab-df-convert:hover {\n",
              "      background-color: #E2EBFA;\n",
              "      box-shadow: 0px 1px 2px rgba(60, 64, 67, 0.3), 0px 1px 3px 1px rgba(60, 64, 67, 0.15);\n",
              "      fill: #174EA6;\n",
              "    }\n",
              "\n",
              "    [theme=dark] .colab-df-convert {\n",
              "      background-color: #3B4455;\n",
              "      fill: #D2E3FC;\n",
              "    }\n",
              "\n",
              "    [theme=dark] .colab-df-convert:hover {\n",
              "      background-color: #434B5C;\n",
              "      box-shadow: 0px 1px 3px 1px rgba(0, 0, 0, 0.15);\n",
              "      filter: drop-shadow(0px 1px 2px rgba(0, 0, 0, 0.3));\n",
              "      fill: #FFFFFF;\n",
              "    }\n",
              "  </style>\n",
              "\n",
              "      <script>\n",
              "        const buttonEl =\n",
              "          document.querySelector('#df-67a34ae8-7ec6-4dfa-8825-59e7b0be2d68 button.colab-df-convert');\n",
              "        buttonEl.style.display =\n",
              "          google.colab.kernel.accessAllowed ? 'block' : 'none';\n",
              "\n",
              "        async function convertToInteractive(key) {\n",
              "          const element = document.querySelector('#df-67a34ae8-7ec6-4dfa-8825-59e7b0be2d68');\n",
              "          const dataTable =\n",
              "            await google.colab.kernel.invokeFunction('convertToInteractive',\n",
              "                                                     [key], {});\n",
              "          if (!dataTable) return;\n",
              "\n",
              "          const docLinkHtml = 'Like what you see? Visit the ' +\n",
              "            '<a target=\"_blank\" href=https://colab.research.google.com/notebooks/data_table.ipynb>data table notebook</a>'\n",
              "            + ' to learn more about interactive tables.';\n",
              "          element.innerHTML = '';\n",
              "          dataTable['output_type'] = 'display_data';\n",
              "          await google.colab.output.renderOutput(dataTable, element);\n",
              "          const docLink = document.createElement('div');\n",
              "          docLink.innerHTML = docLinkHtml;\n",
              "          element.appendChild(docLink);\n",
              "        }\n",
              "      </script>\n",
              "    </div>\n",
              "  </div>\n",
              "  "
            ],
            "text/plain": [
              "           SNo ObservationDate     Province/State  ... Confirmed  Deaths  Recovered\n",
              "0            1      01/22/2020              Anhui  ...       1.0     0.0        0.0\n",
              "1            2      01/22/2020            Beijing  ...      14.0     0.0        0.0\n",
              "2            3      01/22/2020          Chongqing  ...       6.0     0.0        0.0\n",
              "3            4      01/22/2020             Fujian  ...       1.0     0.0        0.0\n",
              "4            5      01/22/2020              Gansu  ...       0.0     0.0        0.0\n",
              "...        ...             ...                ...  ...       ...     ...        ...\n",
              "306424  306425      05/29/2021  Zaporizhia Oblast  ...  102641.0  2335.0    95289.0\n",
              "306425  306426      05/29/2021            Zeeland  ...   29147.0   245.0        0.0\n",
              "306426  306427      05/29/2021           Zhejiang  ...    1364.0     1.0     1324.0\n",
              "306427  306428      05/29/2021    Zhytomyr Oblast  ...   87550.0  1738.0    83790.0\n",
              "306428  306429      05/29/2021       Zuid-Holland  ...  391559.0  4252.0        0.0\n",
              "\n",
              "[306429 rows x 8 columns]"
            ]
          },
          "metadata": {},
          "execution_count": 58
        }
      ]
    },
    {
      "cell_type": "code",
      "source": [
        " df['ObservationDate'] = pd.to_datetime(df['ObservationDate'])"
      ],
      "metadata": {
        "id": "EmaOQnTecLPt"
      },
      "execution_count": null,
      "outputs": []
    },
    {
      "cell_type": "code",
      "source": [
        "preprocessed_df = df.groupby(df['ObservationDate'].dt.date)['Confirmed','Deaths','Recovered'].agg(['sum']) #算總和"
      ],
      "metadata": {
        "colab": {
          "base_uri": "https://localhost:8080/"
        },
        "id": "LoRENoY3cXMj",
        "outputId": "6a089926-f01c-484c-c357-9a7b2e0775a9"
      },
      "execution_count": null,
      "outputs": [
        {
          "output_type": "stream",
          "name": "stderr",
          "text": [
            "/usr/local/lib/python3.7/dist-packages/ipykernel_launcher.py:1: FutureWarning: Indexing with multiple keys (implicitly converted to a tuple of keys) will be deprecated, use a list instead.\n",
            "  \"\"\"Entry point for launching an IPython kernel.\n"
          ]
        }
      ]
    },
    {
      "cell_type": "code",
      "source": [
        "preprocessed_df"
      ],
      "metadata": {
        "colab": {
          "base_uri": "https://localhost:8080/",
          "height": 486
        },
        "id": "TT_wu4_BciRH",
        "outputId": "6161517a-1fdb-48c9-846d-818637169929"
      },
      "execution_count": null,
      "outputs": [
        {
          "output_type": "execute_result",
          "data": {
            "text/html": [
              "\n",
              "  <div id=\"df-7d3cf466-46d9-4071-8f5c-5c8c024c0352\">\n",
              "    <div class=\"colab-df-container\">\n",
              "      <div>\n",
              "<style scoped>\n",
              "    .dataframe tbody tr th:only-of-type {\n",
              "        vertical-align: middle;\n",
              "    }\n",
              "\n",
              "    .dataframe tbody tr th {\n",
              "        vertical-align: top;\n",
              "    }\n",
              "\n",
              "    .dataframe thead tr th {\n",
              "        text-align: left;\n",
              "    }\n",
              "\n",
              "    .dataframe thead tr:last-of-type th {\n",
              "        text-align: right;\n",
              "    }\n",
              "</style>\n",
              "<table border=\"1\" class=\"dataframe\">\n",
              "  <thead>\n",
              "    <tr>\n",
              "      <th></th>\n",
              "      <th>Confirmed</th>\n",
              "      <th>Deaths</th>\n",
              "      <th>Recovered</th>\n",
              "    </tr>\n",
              "    <tr>\n",
              "      <th></th>\n",
              "      <th>sum</th>\n",
              "      <th>sum</th>\n",
              "      <th>sum</th>\n",
              "    </tr>\n",
              "    <tr>\n",
              "      <th>ObservationDate</th>\n",
              "      <th></th>\n",
              "      <th></th>\n",
              "      <th></th>\n",
              "    </tr>\n",
              "  </thead>\n",
              "  <tbody>\n",
              "    <tr>\n",
              "      <th>2020-01-22</th>\n",
              "      <td>557.0</td>\n",
              "      <td>17.0</td>\n",
              "      <td>30.0</td>\n",
              "    </tr>\n",
              "    <tr>\n",
              "      <th>2020-01-23</th>\n",
              "      <td>1097.0</td>\n",
              "      <td>34.0</td>\n",
              "      <td>60.0</td>\n",
              "    </tr>\n",
              "    <tr>\n",
              "      <th>2020-01-24</th>\n",
              "      <td>941.0</td>\n",
              "      <td>26.0</td>\n",
              "      <td>39.0</td>\n",
              "    </tr>\n",
              "    <tr>\n",
              "      <th>2020-01-25</th>\n",
              "      <td>1437.0</td>\n",
              "      <td>42.0</td>\n",
              "      <td>42.0</td>\n",
              "    </tr>\n",
              "    <tr>\n",
              "      <th>2020-01-26</th>\n",
              "      <td>2118.0</td>\n",
              "      <td>56.0</td>\n",
              "      <td>56.0</td>\n",
              "    </tr>\n",
              "    <tr>\n",
              "      <th>...</th>\n",
              "      <td>...</td>\n",
              "      <td>...</td>\n",
              "      <td>...</td>\n",
              "    </tr>\n",
              "    <tr>\n",
              "      <th>2021-05-25</th>\n",
              "      <td>167848207.0</td>\n",
              "      <td>3485788.0</td>\n",
              "      <td>104824935.0</td>\n",
              "    </tr>\n",
              "    <tr>\n",
              "      <th>2021-05-26</th>\n",
              "      <td>168416423.0</td>\n",
              "      <td>3498544.0</td>\n",
              "      <td>105380748.0</td>\n",
              "    </tr>\n",
              "    <tr>\n",
              "      <th>2021-05-27</th>\n",
              "      <td>168970791.0</td>\n",
              "      <td>3511297.0</td>\n",
              "      <td>106078106.0</td>\n",
              "    </tr>\n",
              "    <tr>\n",
              "      <th>2021-05-28</th>\n",
              "      <td>169470725.0</td>\n",
              "      <td>3523117.0</td>\n",
              "      <td>106633069.0</td>\n",
              "    </tr>\n",
              "    <tr>\n",
              "      <th>2021-05-29</th>\n",
              "      <td>169951560.0</td>\n",
              "      <td>3533619.0</td>\n",
              "      <td>107140669.0</td>\n",
              "    </tr>\n",
              "  </tbody>\n",
              "</table>\n",
              "<p>494 rows × 3 columns</p>\n",
              "</div>\n",
              "      <button class=\"colab-df-convert\" onclick=\"convertToInteractive('df-7d3cf466-46d9-4071-8f5c-5c8c024c0352')\"\n",
              "              title=\"Convert this dataframe to an interactive table.\"\n",
              "              style=\"display:none;\">\n",
              "        \n",
              "  <svg xmlns=\"http://www.w3.org/2000/svg\" height=\"24px\"viewBox=\"0 0 24 24\"\n",
              "       width=\"24px\">\n",
              "    <path d=\"M0 0h24v24H0V0z\" fill=\"none\"/>\n",
              "    <path d=\"M18.56 5.44l.94 2.06.94-2.06 2.06-.94-2.06-.94-.94-2.06-.94 2.06-2.06.94zm-11 1L8.5 8.5l.94-2.06 2.06-.94-2.06-.94L8.5 2.5l-.94 2.06-2.06.94zm10 10l.94 2.06.94-2.06 2.06-.94-2.06-.94-.94-2.06-.94 2.06-2.06.94z\"/><path d=\"M17.41 7.96l-1.37-1.37c-.4-.4-.92-.59-1.43-.59-.52 0-1.04.2-1.43.59L10.3 9.45l-7.72 7.72c-.78.78-.78 2.05 0 2.83L4 21.41c.39.39.9.59 1.41.59.51 0 1.02-.2 1.41-.59l7.78-7.78 2.81-2.81c.8-.78.8-2.07 0-2.86zM5.41 20L4 18.59l7.72-7.72 1.47 1.35L5.41 20z\"/>\n",
              "  </svg>\n",
              "      </button>\n",
              "      \n",
              "  <style>\n",
              "    .colab-df-container {\n",
              "      display:flex;\n",
              "      flex-wrap:wrap;\n",
              "      gap: 12px;\n",
              "    }\n",
              "\n",
              "    .colab-df-convert {\n",
              "      background-color: #E8F0FE;\n",
              "      border: none;\n",
              "      border-radius: 50%;\n",
              "      cursor: pointer;\n",
              "      display: none;\n",
              "      fill: #1967D2;\n",
              "      height: 32px;\n",
              "      padding: 0 0 0 0;\n",
              "      width: 32px;\n",
              "    }\n",
              "\n",
              "    .colab-df-convert:hover {\n",
              "      background-color: #E2EBFA;\n",
              "      box-shadow: 0px 1px 2px rgba(60, 64, 67, 0.3), 0px 1px 3px 1px rgba(60, 64, 67, 0.15);\n",
              "      fill: #174EA6;\n",
              "    }\n",
              "\n",
              "    [theme=dark] .colab-df-convert {\n",
              "      background-color: #3B4455;\n",
              "      fill: #D2E3FC;\n",
              "    }\n",
              "\n",
              "    [theme=dark] .colab-df-convert:hover {\n",
              "      background-color: #434B5C;\n",
              "      box-shadow: 0px 1px 3px 1px rgba(0, 0, 0, 0.15);\n",
              "      filter: drop-shadow(0px 1px 2px rgba(0, 0, 0, 0.3));\n",
              "      fill: #FFFFFF;\n",
              "    }\n",
              "  </style>\n",
              "\n",
              "      <script>\n",
              "        const buttonEl =\n",
              "          document.querySelector('#df-7d3cf466-46d9-4071-8f5c-5c8c024c0352 button.colab-df-convert');\n",
              "        buttonEl.style.display =\n",
              "          google.colab.kernel.accessAllowed ? 'block' : 'none';\n",
              "\n",
              "        async function convertToInteractive(key) {\n",
              "          const element = document.querySelector('#df-7d3cf466-46d9-4071-8f5c-5c8c024c0352');\n",
              "          const dataTable =\n",
              "            await google.colab.kernel.invokeFunction('convertToInteractive',\n",
              "                                                     [key], {});\n",
              "          if (!dataTable) return;\n",
              "\n",
              "          const docLinkHtml = 'Like what you see? Visit the ' +\n",
              "            '<a target=\"_blank\" href=https://colab.research.google.com/notebooks/data_table.ipynb>data table notebook</a>'\n",
              "            + ' to learn more about interactive tables.';\n",
              "          element.innerHTML = '';\n",
              "          dataTable['output_type'] = 'display_data';\n",
              "          await google.colab.output.renderOutput(dataTable, element);\n",
              "          const docLink = document.createElement('div');\n",
              "          docLink.innerHTML = docLinkHtml;\n",
              "          element.appendChild(docLink);\n",
              "        }\n",
              "      </script>\n",
              "    </div>\n",
              "  </div>\n",
              "  "
            ],
            "text/plain": [
              "                   Confirmed     Deaths    Recovered\n",
              "                         sum        sum          sum\n",
              "ObservationDate                                     \n",
              "2020-01-22             557.0       17.0         30.0\n",
              "2020-01-23            1097.0       34.0         60.0\n",
              "2020-01-24             941.0       26.0         39.0\n",
              "2020-01-25            1437.0       42.0         42.0\n",
              "2020-01-26            2118.0       56.0         56.0\n",
              "...                      ...        ...          ...\n",
              "2021-05-25       167848207.0  3485788.0  104824935.0\n",
              "2021-05-26       168416423.0  3498544.0  105380748.0\n",
              "2021-05-27       168970791.0  3511297.0  106078106.0\n",
              "2021-05-28       169470725.0  3523117.0  106633069.0\n",
              "2021-05-29       169951560.0  3533619.0  107140669.0\n",
              "\n",
              "[494 rows x 3 columns]"
            ]
          },
          "metadata": {},
          "execution_count": 61
        }
      ]
    },
    {
      "cell_type": "code",
      "source": [
        "plt.figure(figsize=(12,7))\n",
        "plt.title('COVID-19 Global Confirmed-Recovered-Deaths Plot')\n",
        "plt.xlabel(\"date\")\n",
        "plt.ylabel(\"numbers\")\n",
        "xplot = preprocessed_df.index # 橫軸為日期\n",
        "y_confirmed = preprocessed_df.iloc[:,0].values # 縱軸為確診數\n",
        "y_deaths = preprocessed_df.iloc[:,1].values    # 縱軸為死亡數\n",
        "y_recovered = preprocessed_df.iloc[:,2].values # 縱軸為復原數\n",
        "\n",
        "plt.plot(xplot,y_confirmed, label='Confirmed',color='black')\n",
        "plt.plot(xplot,y_recovered, label='Recovered',color='orange')\n",
        "plt.plot(xplot,y_deaths, label='Deaths',color='g')\n",
        "plt.legend(loc='upper right')\n",
        "plt.show()"
      ],
      "metadata": {
        "colab": {
          "base_uri": "https://localhost:8080/",
          "height": 458
        },
        "id": "1vBzB6cvcYTN",
        "outputId": "67dab525-85ab-4d89-bdbb-445d201eba94"
      },
      "execution_count": null,
      "outputs": [
        {
          "output_type": "display_data",
          "data": {
            "image/png": "[encoded data removed]",
            "text/plain": [
              "<Figure size 864x504 with 1 Axes>"
            ]
          },
          "metadata": {
            "needs_background": "light"
          }
        }
      ]
    },
    {
      "cell_type": "code",
      "source": [
        "df['Country/Region'].unique() # 抓出國家"
      ],
      "metadata": {
        "id": "6VOKztxKOfgC",
        "colab": {
          "base_uri": "https://localhost:8080/"
        },
        "outputId": "cc20273c-d6c7-4e75-dd45-8d1ddfb703fd"
      },
      "execution_count": null,
      "outputs": [
        {
          "output_type": "execute_result",
          "data": {
            "text/plain": [
              "array(['Mainland China', 'Hong Kong', 'Macau', 'Taiwan', 'US', 'Japan',\n",
              "       'Thailand', 'South Korea', 'China', 'Kiribati', 'Singapore',\n",
              "       'Philippines', 'Malaysia', 'Vietnam', 'Australia', 'Mexico',\n",
              "       'Brazil', 'Colombia', 'France', 'Nepal', 'Canada', 'Cambodia',\n",
              "       'Sri Lanka', 'Ivory Coast', 'Germany', 'Finland',\n",
              "       'United Arab Emirates', 'India', 'Italy', 'UK', 'Russia', 'Sweden',\n",
              "       'Spain', 'Belgium', 'Others', 'Egypt', 'Iran', 'Israel', 'Lebanon',\n",
              "       'Iraq', 'Oman', 'Afghanistan', 'Bahrain', 'Kuwait', 'Austria',\n",
              "       'Algeria', 'Croatia', 'Switzerland', 'Pakistan', 'Georgia',\n",
              "       'Greece', 'North Macedonia', 'Norway', 'Romania', 'Denmark',\n",
              "       'Estonia', 'Netherlands', 'San Marino', ' Azerbaijan', 'Belarus',\n",
              "       'Iceland', 'Lithuania', 'New Zealand', 'Nigeria', 'North Ireland',\n",
              "       'Ireland', 'Luxembourg', 'Monaco', 'Qatar', 'Ecuador',\n",
              "       'Azerbaijan', 'Czech Republic', 'Armenia', 'Dominican Republic',\n",
              "       'Indonesia', 'Portugal', 'Andorra', 'Latvia', 'Morocco',\n",
              "       'Saudi Arabia', 'Senegal', 'Argentina', 'Chile', 'Jordan',\n",
              "       'Ukraine', 'Saint Barthelemy', 'Hungary', 'Faroe Islands',\n",
              "       'Gibraltar', 'Liechtenstein', 'Poland', 'Tunisia', 'Palestine',\n",
              "       'Bosnia and Herzegovina', 'Slovenia', 'South Africa', 'Bhutan',\n",
              "       'Cameroon', 'Costa Rica', 'Peru', 'Serbia', 'Slovakia', 'Togo',\n",
              "       'Vatican City', 'French Guiana', 'Malta', 'Martinique',\n",
              "       'Republic of Ireland', 'Bulgaria', 'Maldives', 'Bangladesh',\n",
              "       'Moldova', 'Paraguay', 'Albania', 'Cyprus', 'St. Martin', 'Brunei',\n",
              "       'occupied Palestinian territory', \"('St. Martin',)\",\n",
              "       'Burkina Faso', 'Channel Islands', 'Holy See', 'Mongolia',\n",
              "       'Panama', 'Bolivia', 'Honduras', 'Congo (Kinshasa)', 'Jamaica',\n",
              "       'Reunion', 'Turkey', 'Cuba', 'Guyana', 'Kazakhstan',\n",
              "       'Cayman Islands', 'Guadeloupe', 'Ethiopia', 'Sudan', 'Guinea',\n",
              "       'Antigua and Barbuda', 'Aruba', 'Kenya', 'Uruguay', 'Ghana',\n",
              "       'Jersey', 'Namibia', 'Seychelles', 'Trinidad and Tobago',\n",
              "       'Venezuela', 'Curacao', 'Eswatini', 'Gabon', 'Guatemala',\n",
              "       'Guernsey', 'Mauritania', 'Rwanda', 'Saint Lucia',\n",
              "       'Saint Vincent and the Grenadines', 'Suriname', 'Kosovo',\n",
              "       'Central African Republic', 'Congo (Brazzaville)',\n",
              "       'Equatorial Guinea', 'Uzbekistan', 'Guam', 'Puerto Rico', 'Benin',\n",
              "       'Greenland', 'Liberia', 'Mayotte', 'Republic of the Congo',\n",
              "       'Somalia', 'Tanzania', 'The Bahamas', 'Barbados', 'Montenegro',\n",
              "       'The Gambia', 'Kyrgyzstan', 'Mauritius', 'Zambia', 'Djibouti',\n",
              "       'Gambia, The', 'Bahamas, The', 'Chad', 'El Salvador', 'Fiji',\n",
              "       'Nicaragua', 'Madagascar', 'Haiti', 'Angola', 'Cabo Verde',\n",
              "       'Niger', 'Papua New Guinea', 'Zimbabwe', 'Cape Verde',\n",
              "       'East Timor', 'Eritrea', 'Uganda', 'Bahamas', 'Dominica', 'Gambia',\n",
              "       'Grenada', 'Mozambique', 'Samoa', 'Syria', 'Timor-Leste', 'Belize',\n",
              "       'Laos', 'Libya', 'Diamond Princess', 'Guinea-Bissau', 'Mali',\n",
              "       'Saint Kitts and Nevis', 'West Bank and Gaza', 'Burma',\n",
              "       'MS Zaandam', 'Botswana', 'Burundi', 'Sierra Leone', 'Malawi',\n",
              "       'South Sudan', 'Sao Tome and Principe', 'Yemen', 'Comoros',\n",
              "       'Tajikistan', 'Lesotho', 'Solomon Islands', 'Marshall Islands',\n",
              "       'Vanuatu', 'Micronesia'], dtype=object)"
            ]
          },
          "metadata": {},
          "execution_count": 63
        }
      ]
    },
    {
      "cell_type": "code",
      "source": [
        "x = df[df['Country/Region']=='Taiwan'] #選要做分析的國家"
      ],
      "metadata": {
        "id": "pSRzSrUvOlZC"
      },
      "execution_count": null,
      "outputs": []
    },
    {
      "cell_type": "code",
      "source": [
        "x"
      ],
      "metadata": {
        "id": "sxTIzXo5Omts",
        "colab": {
          "base_uri": "https://localhost:8080/",
          "height": 423
        },
        "outputId": "8f2ca8c6-a357-40ea-e334-40c3a01fe346"
      },
      "execution_count": null,
      "outputs": [
        {
          "output_type": "execute_result",
          "data": {
            "text/html": [
              "\n",
              "  <div id=\"df-0c24b49b-9639-414d-8927-c6b024afaec7\">\n",
              "    <div class=\"colab-df-container\">\n",
              "      <div>\n",
              "<style scoped>\n",
              "    .dataframe tbody tr th:only-of-type {\n",
              "        vertical-align: middle;\n",
              "    }\n",
              "\n",
              "    .dataframe tbody tr th {\n",
              "        vertical-align: top;\n",
              "    }\n",
              "\n",
              "    .dataframe thead th {\n",
              "        text-align: right;\n",
              "    }\n",
              "</style>\n",
              "<table border=\"1\" class=\"dataframe\">\n",
              "  <thead>\n",
              "    <tr style=\"text-align: right;\">\n",
              "      <th></th>\n",
              "      <th>SNo</th>\n",
              "      <th>ObservationDate</th>\n",
              "      <th>Province/State</th>\n",
              "      <th>Country/Region</th>\n",
              "      <th>Last Update</th>\n",
              "      <th>Confirmed</th>\n",
              "      <th>Deaths</th>\n",
              "      <th>Recovered</th>\n",
              "    </tr>\n",
              "  </thead>\n",
              "  <tbody>\n",
              "    <tr>\n",
              "      <th>28</th>\n",
              "      <td>29</td>\n",
              "      <td>2020-01-22</td>\n",
              "      <td>Taiwan</td>\n",
              "      <td>Taiwan</td>\n",
              "      <td>1/22/2020 17:00</td>\n",
              "      <td>1.0</td>\n",
              "      <td>0.0</td>\n",
              "      <td>0.0</td>\n",
              "    </tr>\n",
              "    <tr>\n",
              "      <th>68</th>\n",
              "      <td>69</td>\n",
              "      <td>2020-01-23</td>\n",
              "      <td>Taiwan</td>\n",
              "      <td>Taiwan</td>\n",
              "      <td>1/23/20 17:00</td>\n",
              "      <td>1.0</td>\n",
              "      <td>0.0</td>\n",
              "      <td>0.0</td>\n",
              "    </tr>\n",
              "    <tr>\n",
              "      <th>111</th>\n",
              "      <td>112</td>\n",
              "      <td>2020-01-24</td>\n",
              "      <td>Taiwan</td>\n",
              "      <td>Taiwan</td>\n",
              "      <td>1/24/20 17:00</td>\n",
              "      <td>3.0</td>\n",
              "      <td>0.0</td>\n",
              "      <td>0.0</td>\n",
              "    </tr>\n",
              "    <tr>\n",
              "      <th>160</th>\n",
              "      <td>161</td>\n",
              "      <td>2020-01-25</td>\n",
              "      <td>Taiwan</td>\n",
              "      <td>Taiwan</td>\n",
              "      <td>1/25/20 17:00</td>\n",
              "      <td>3.0</td>\n",
              "      <td>0.0</td>\n",
              "      <td>0.0</td>\n",
              "    </tr>\n",
              "    <tr>\n",
              "      <th>207</th>\n",
              "      <td>208</td>\n",
              "      <td>2020-01-26</td>\n",
              "      <td>Taiwan</td>\n",
              "      <td>Taiwan</td>\n",
              "      <td>1/26/20 16:00</td>\n",
              "      <td>4.0</td>\n",
              "      <td>0.0</td>\n",
              "      <td>0.0</td>\n",
              "    </tr>\n",
              "    <tr>\n",
              "      <th>...</th>\n",
              "      <td>...</td>\n",
              "      <td>...</td>\n",
              "      <td>...</td>\n",
              "      <td>...</td>\n",
              "      <td>...</td>\n",
              "      <td>...</td>\n",
              "      <td>...</td>\n",
              "      <td>...</td>\n",
              "    </tr>\n",
              "    <tr>\n",
              "      <th>302756</th>\n",
              "      <td>302757</td>\n",
              "      <td>2021-05-25</td>\n",
              "      <td>NaN</td>\n",
              "      <td>Taiwan</td>\n",
              "      <td>2021-05-26 04:20:35</td>\n",
              "      <td>5456.0</td>\n",
              "      <td>35.0</td>\n",
              "      <td>1133.0</td>\n",
              "    </tr>\n",
              "    <tr>\n",
              "      <th>303521</th>\n",
              "      <td>303522</td>\n",
              "      <td>2021-05-26</td>\n",
              "      <td>NaN</td>\n",
              "      <td>Taiwan</td>\n",
              "      <td>2021-05-27 04:20:59</td>\n",
              "      <td>6091.0</td>\n",
              "      <td>46.0</td>\n",
              "      <td>1133.0</td>\n",
              "    </tr>\n",
              "    <tr>\n",
              "      <th>304286</th>\n",
              "      <td>304287</td>\n",
              "      <td>2021-05-27</td>\n",
              "      <td>NaN</td>\n",
              "      <td>Taiwan</td>\n",
              "      <td>2021-05-28 04:20:36</td>\n",
              "      <td>6761.0</td>\n",
              "      <td>59.0</td>\n",
              "      <td>1133.0</td>\n",
              "    </tr>\n",
              "    <tr>\n",
              "      <th>305051</th>\n",
              "      <td>305052</td>\n",
              "      <td>2021-05-28</td>\n",
              "      <td>NaN</td>\n",
              "      <td>Taiwan</td>\n",
              "      <td>2021-05-29 04:20:41</td>\n",
              "      <td>7315.0</td>\n",
              "      <td>78.0</td>\n",
              "      <td>1133.0</td>\n",
              "    </tr>\n",
              "    <tr>\n",
              "      <th>305816</th>\n",
              "      <td>305817</td>\n",
              "      <td>2021-05-29</td>\n",
              "      <td>NaN</td>\n",
              "      <td>Taiwan</td>\n",
              "      <td>2021-05-30 04:20:55</td>\n",
              "      <td>7806.0</td>\n",
              "      <td>99.0</td>\n",
              "      <td>1133.0</td>\n",
              "    </tr>\n",
              "  </tbody>\n",
              "</table>\n",
              "<p>494 rows × 8 columns</p>\n",
              "</div>\n",
              "      <button class=\"colab-df-convert\" onclick=\"convertToInteractive('df-0c24b49b-9639-414d-8927-c6b024afaec7')\"\n",
              "              title=\"Convert this dataframe to an interactive table.\"\n",
              "              style=\"display:none;\">\n",
              "        \n",
              "  <svg xmlns=\"http://www.w3.org/2000/svg\" height=\"24px\"viewBox=\"0 0 24 24\"\n",
              "       width=\"24px\">\n",
              "    <path d=\"M0 0h24v24H0V0z\" fill=\"none\"/>\n",
              "    <path d=\"M18.56 5.44l.94 2.06.94-2.06 2.06-.94-2.06-.94-.94-2.06-.94 2.06-2.06.94zm-11 1L8.5 8.5l.94-2.06 2.06-.94-2.06-.94L8.5 2.5l-.94 2.06-2.06.94zm10 10l.94 2.06.94-2.06 2.06-.94-2.06-.94-.94-2.06-.94 2.06-2.06.94z\"/><path d=\"M17.41 7.96l-1.37-1.37c-.4-.4-.92-.59-1.43-.59-.52 0-1.04.2-1.43.59L10.3 9.45l-7.72 7.72c-.78.78-.78 2.05 0 2.83L4 21.41c.39.39.9.59 1.41.59.51 0 1.02-.2 1.41-.59l7.78-7.78 2.81-2.81c.8-.78.8-2.07 0-2.86zM5.41 20L4 18.59l7.72-7.72 1.47 1.35L5.41 20z\"/>\n",
              "  </svg>\n",
              "      </button>\n",
              "      \n",
              "  <style>\n",
              "    .colab-df-container {\n",
              "      display:flex;\n",
              "      flex-wrap:wrap;\n",
              "      gap: 12px;\n",
              "    }\n",
              "\n",
              "    .colab-df-convert {\n",
              "      background-color: #E8F0FE;\n",
              "      border: none;\n",
              "      border-radius: 50%;\n",
              "      cursor: pointer;\n",
              "      display: none;\n",
              "      fill: #1967D2;\n",
              "      height: 32px;\n",
              "      padding: 0 0 0 0;\n",
              "      width: 32px;\n",
              "    }\n",
              "\n",
              "    .colab-df-convert:hover {\n",
              "      background-color: #E2EBFA;\n",
              "      box-shadow: 0px 1px 2px rgba(60, 64, 67, 0.3), 0px 1px 3px 1px rgba(60, 64, 67, 0.15);\n",
              "      fill: #174EA6;\n",
              "    }\n",
              "\n",
              "    [theme=dark] .colab-df-convert {\n",
              "      background-color: #3B4455;\n",
              "      fill: #D2E3FC;\n",
              "    }\n",
              "\n",
              "    [theme=dark] .colab-df-convert:hover {\n",
              "      background-color: #434B5C;\n",
              "      box-shadow: 0px 1px 3px 1px rgba(0, 0, 0, 0.15);\n",
              "      filter: drop-shadow(0px 1px 2px rgba(0, 0, 0, 0.3));\n",
              "      fill: #FFFFFF;\n",
              "    }\n",
              "  </style>\n",
              "\n",
              "      <script>\n",
              "        const buttonEl =\n",
              "          document.querySelector('#df-0c24b49b-9639-414d-8927-c6b024afaec7 button.colab-df-convert');\n",
              "        buttonEl.style.display =\n",
              "          google.colab.kernel.accessAllowed ? 'block' : 'none';\n",
              "\n",
              "        async function convertToInteractive(key) {\n",
              "          const element = document.querySelector('#df-0c24b49b-9639-414d-8927-c6b024afaec7');\n",
              "          const dataTable =\n",
              "            await google.colab.kernel.invokeFunction('convertToInteractive',\n",
              "                                                     [key], {});\n",
              "          if (!dataTable) return;\n",
              "\n",
              "          const docLinkHtml = 'Like what you see? Visit the ' +\n",
              "            '<a target=\"_blank\" href=https://colab.research.google.com/notebooks/data_table.ipynb>data table notebook</a>'\n",
              "            + ' to learn more about interactive tables.';\n",
              "          element.innerHTML = '';\n",
              "          dataTable['output_type'] = 'display_data';\n",
              "          await google.colab.output.renderOutput(dataTable, element);\n",
              "          const docLink = document.createElement('div');\n",
              "          docLink.innerHTML = docLinkHtml;\n",
              "          element.appendChild(docLink);\n",
              "        }\n",
              "      </script>\n",
              "    </div>\n",
              "  </div>\n",
              "  "
            ],
            "text/plain": [
              "           SNo ObservationDate Province/State  ... Confirmed Deaths  Recovered\n",
              "28          29      2020-01-22         Taiwan  ...       1.0    0.0        0.0\n",
              "68          69      2020-01-23         Taiwan  ...       1.0    0.0        0.0\n",
              "111        112      2020-01-24         Taiwan  ...       3.0    0.0        0.0\n",
              "160        161      2020-01-25         Taiwan  ...       3.0    0.0        0.0\n",
              "207        208      2020-01-26         Taiwan  ...       4.0    0.0        0.0\n",
              "...        ...             ...            ...  ...       ...    ...        ...\n",
              "302756  302757      2021-05-25            NaN  ...    5456.0   35.0     1133.0\n",
              "303521  303522      2021-05-26            NaN  ...    6091.0   46.0     1133.0\n",
              "304286  304287      2021-05-27            NaN  ...    6761.0   59.0     1133.0\n",
              "305051  305052      2021-05-28            NaN  ...    7315.0   78.0     1133.0\n",
              "305816  305817      2021-05-29            NaN  ...    7806.0   99.0     1133.0\n",
              "\n",
              "[494 rows x 8 columns]"
            ]
          },
          "metadata": {},
          "execution_count": 65
        }
      ]
    },
    {
      "cell_type": "code",
      "source": [
        " x['ObservationDate'] = pd.to_datetime(x['ObservationDate']) #將data time轉換成 python data time(統一last update的格式)"
      ],
      "metadata": {
        "id": "HDbEGIMHOn46",
        "colab": {
          "base_uri": "https://localhost:8080/"
        },
        "outputId": "90ddbe35-729a-410a-fa52-409ea7c71c2f"
      },
      "execution_count": null,
      "outputs": [
        {
          "output_type": "stream",
          "name": "stderr",
          "text": [
            "/usr/local/lib/python3.7/dist-packages/ipykernel_launcher.py:1: SettingWithCopyWarning: \n",
            "A value is trying to be set on a copy of a slice from a DataFrame.\n",
            "Try using .loc[row_indexer,col_indexer] = value instead\n",
            "\n",
            "See the caveats in the documentation: https://pandas.pydata.org/pandas-docs/stable/user_guide/indexing.html#returning-a-view-versus-a-copy\n",
            "  \"\"\"Entry point for launching an IPython kernel.\n"
          ]
        }
      ]
    },
    {
      "cell_type": "code",
      "source": [
        "#x.head() #印出前五筆"
      ],
      "metadata": {
        "id": "uElV_WA0Opu4"
      },
      "execution_count": null,
      "outputs": []
    },
    {
      "cell_type": "code",
      "source": [
        "#x.groupby(x['Last Update'])"
      ],
      "metadata": {
        "id": "0jPm7STxOq_T"
      },
      "execution_count": null,
      "outputs": []
    },
    {
      "cell_type": "code",
      "source": [
        "preprocessed_x = x.groupby(x['ObservationDate'].dt.date)['Confirmed','Deaths','Recovered'].agg(['sum']) #算總和"
      ],
      "metadata": {
        "id": "7QcU0TgjOtUB",
        "colab": {
          "base_uri": "https://localhost:8080/"
        },
        "outputId": "96745ca9-f447-40af-b118-4feb7fdf85e6"
      },
      "execution_count": null,
      "outputs": [
        {
          "output_type": "stream",
          "name": "stderr",
          "text": [
            "/usr/local/lib/python3.7/dist-packages/ipykernel_launcher.py:1: FutureWarning: Indexing with multiple keys (implicitly converted to a tuple of keys) will be deprecated, use a list instead.\n",
            "  \"\"\"Entry point for launching an IPython kernel.\n"
          ]
        }
      ]
    },
    {
      "cell_type": "code",
      "source": [
        " preprocessed_x"
      ],
      "metadata": {
        "id": "Vk2JodljOt9Y",
        "colab": {
          "base_uri": "https://localhost:8080/",
          "height": 486
        },
        "outputId": "2918c51a-a041-4855-8676-fcc72568aa0f"
      },
      "execution_count": null,
      "outputs": [
        {
          "output_type": "execute_result",
          "data": {
            "text/html": [
              "\n",
              "  <div id=\"df-1b6f8817-a61d-4314-9ceb-ca9243694b99\">\n",
              "    <div class=\"colab-df-container\">\n",
              "      <div>\n",
              "<style scoped>\n",
              "    .dataframe tbody tr th:only-of-type {\n",
              "        vertical-align: middle;\n",
              "    }\n",
              "\n",
              "    .dataframe tbody tr th {\n",
              "        vertical-align: top;\n",
              "    }\n",
              "\n",
              "    .dataframe thead tr th {\n",
              "        text-align: left;\n",
              "    }\n",
              "\n",
              "    .dataframe thead tr:last-of-type th {\n",
              "        text-align: right;\n",
              "    }\n",
              "</style>\n",
              "<table border=\"1\" class=\"dataframe\">\n",
              "  <thead>\n",
              "    <tr>\n",
              "      <th></th>\n",
              "      <th>Confirmed</th>\n",
              "      <th>Deaths</th>\n",
              "      <th>Recovered</th>\n",
              "    </tr>\n",
              "    <tr>\n",
              "      <th></th>\n",
              "      <th>sum</th>\n",
              "      <th>sum</th>\n",
              "      <th>sum</th>\n",
              "    </tr>\n",
              "    <tr>\n",
              "      <th>ObservationDate</th>\n",
              "      <th></th>\n",
              "      <th></th>\n",
              "      <th></th>\n",
              "    </tr>\n",
              "  </thead>\n",
              "  <tbody>\n",
              "    <tr>\n",
              "      <th>2020-01-22</th>\n",
              "      <td>1.0</td>\n",
              "      <td>0.0</td>\n",
              "      <td>0.0</td>\n",
              "    </tr>\n",
              "    <tr>\n",
              "      <th>2020-01-23</th>\n",
              "      <td>1.0</td>\n",
              "      <td>0.0</td>\n",
              "      <td>0.0</td>\n",
              "    </tr>\n",
              "    <tr>\n",
              "      <th>2020-01-24</th>\n",
              "      <td>3.0</td>\n",
              "      <td>0.0</td>\n",
              "      <td>0.0</td>\n",
              "    </tr>\n",
              "    <tr>\n",
              "      <th>2020-01-25</th>\n",
              "      <td>3.0</td>\n",
              "      <td>0.0</td>\n",
              "      <td>0.0</td>\n",
              "    </tr>\n",
              "    <tr>\n",
              "      <th>2020-01-26</th>\n",
              "      <td>4.0</td>\n",
              "      <td>0.0</td>\n",
              "      <td>0.0</td>\n",
              "    </tr>\n",
              "    <tr>\n",
              "      <th>...</th>\n",
              "      <td>...</td>\n",
              "      <td>...</td>\n",
              "      <td>...</td>\n",
              "    </tr>\n",
              "    <tr>\n",
              "      <th>2021-05-25</th>\n",
              "      <td>5456.0</td>\n",
              "      <td>35.0</td>\n",
              "      <td>1133.0</td>\n",
              "    </tr>\n",
              "    <tr>\n",
              "      <th>2021-05-26</th>\n",
              "      <td>6091.0</td>\n",
              "      <td>46.0</td>\n",
              "      <td>1133.0</td>\n",
              "    </tr>\n",
              "    <tr>\n",
              "      <th>2021-05-27</th>\n",
              "      <td>6761.0</td>\n",
              "      <td>59.0</td>\n",
              "      <td>1133.0</td>\n",
              "    </tr>\n",
              "    <tr>\n",
              "      <th>2021-05-28</th>\n",
              "      <td>7315.0</td>\n",
              "      <td>78.0</td>\n",
              "      <td>1133.0</td>\n",
              "    </tr>\n",
              "    <tr>\n",
              "      <th>2021-05-29</th>\n",
              "      <td>7806.0</td>\n",
              "      <td>99.0</td>\n",
              "      <td>1133.0</td>\n",
              "    </tr>\n",
              "  </tbody>\n",
              "</table>\n",
              "<p>494 rows × 3 columns</p>\n",
              "</div>\n",
              "      <button class=\"colab-df-convert\" onclick=\"convertToInteractive('df-1b6f8817-a61d-4314-9ceb-ca9243694b99')\"\n",
              "              title=\"Convert this dataframe to an interactive table.\"\n",
              "              style=\"display:none;\">\n",
              "        \n",
              "  <svg xmlns=\"http://www.w3.org/2000/svg\" height=\"24px\"viewBox=\"0 0 24 24\"\n",
              "       width=\"24px\">\n",
              "    <path d=\"M0 0h24v24H0V0z\" fill=\"none\"/>\n",
              "    <path d=\"M18.56 5.44l.94 2.06.94-2.06 2.06-.94-2.06-.94-.94-2.06-.94 2.06-2.06.94zm-11 1L8.5 8.5l.94-2.06 2.06-.94-2.06-.94L8.5 2.5l-.94 2.06-2.06.94zm10 10l.94 2.06.94-2.06 2.06-.94-2.06-.94-.94-2.06-.94 2.06-2.06.94z\"/><path d=\"M17.41 7.96l-1.37-1.37c-.4-.4-.92-.59-1.43-.59-.52 0-1.04.2-1.43.59L10.3 9.45l-7.72 7.72c-.78.78-.78 2.05 0 2.83L4 21.41c.39.39.9.59 1.41.59.51 0 1.02-.2 1.41-.59l7.78-7.78 2.81-2.81c.8-.78.8-2.07 0-2.86zM5.41 20L4 18.59l7.72-7.72 1.47 1.35L5.41 20z\"/>\n",
              "  </svg>\n",
              "      </button>\n",
              "      \n",
              "  <style>\n",
              "    .colab-df-container {\n",
              "      display:flex;\n",
              "      flex-wrap:wrap;\n",
              "      gap: 12px;\n",
              "    }\n",
              "\n",
              "    .colab-df-convert {\n",
              "      background-color: #E8F0FE;\n",
              "      border: none;\n",
              "      border-radius: 50%;\n",
              "      cursor: pointer;\n",
              "      display: none;\n",
              "      fill: #1967D2;\n",
              "      height: 32px;\n",
              "      padding: 0 0 0 0;\n",
              "      width: 32px;\n",
              "    }\n",
              "\n",
              "    .colab-df-convert:hover {\n",
              "      background-color: #E2EBFA;\n",
              "      box-shadow: 0px 1px 2px rgba(60, 64, 67, 0.3), 0px 1px 3px 1px rgba(60, 64, 67, 0.15);\n",
              "      fill: #174EA6;\n",
              "    }\n",
              "\n",
              "    [theme=dark] .colab-df-convert {\n",
              "      background-color: #3B4455;\n",
              "      fill: #D2E3FC;\n",
              "    }\n",
              "\n",
              "    [theme=dark] .colab-df-convert:hover {\n",
              "      background-color: #434B5C;\n",
              "      box-shadow: 0px 1px 3px 1px rgba(0, 0, 0, 0.15);\n",
              "      filter: drop-shadow(0px 1px 2px rgba(0, 0, 0, 0.3));\n",
              "      fill: #FFFFFF;\n",
              "    }\n",
              "  </style>\n",
              "\n",
              "      <script>\n",
              "        const buttonEl =\n",
              "          document.querySelector('#df-1b6f8817-a61d-4314-9ceb-ca9243694b99 button.colab-df-convert');\n",
              "        buttonEl.style.display =\n",
              "          google.colab.kernel.accessAllowed ? 'block' : 'none';\n",
              "\n",
              "        async function convertToInteractive(key) {\n",
              "          const element = document.querySelector('#df-1b6f8817-a61d-4314-9ceb-ca9243694b99');\n",
              "          const dataTable =\n",
              "            await google.colab.kernel.invokeFunction('convertToInteractive',\n",
              "                                                     [key], {});\n",
              "          if (!dataTable) return;\n",
              "\n",
              "          const docLinkHtml = 'Like what you see? Visit the ' +\n",
              "            '<a target=\"_blank\" href=https://colab.research.google.com/notebooks/data_table.ipynb>data table notebook</a>'\n",
              "            + ' to learn more about interactive tables.';\n",
              "          element.innerHTML = '';\n",
              "          dataTable['output_type'] = 'display_data';\n",
              "          await google.colab.output.renderOutput(dataTable, element);\n",
              "          const docLink = document.createElement('div');\n",
              "          docLink.innerHTML = docLinkHtml;\n",
              "          element.appendChild(docLink);\n",
              "        }\n",
              "      </script>\n",
              "    </div>\n",
              "  </div>\n",
              "  "
            ],
            "text/plain": [
              "                Confirmed Deaths Recovered\n",
              "                      sum    sum       sum\n",
              "ObservationDate                           \n",
              "2020-01-22            1.0    0.0       0.0\n",
              "2020-01-23            1.0    0.0       0.0\n",
              "2020-01-24            3.0    0.0       0.0\n",
              "2020-01-25            3.0    0.0       0.0\n",
              "2020-01-26            4.0    0.0       0.0\n",
              "...                   ...    ...       ...\n",
              "2021-05-25         5456.0   35.0    1133.0\n",
              "2021-05-26         6091.0   46.0    1133.0\n",
              "2021-05-27         6761.0   59.0    1133.0\n",
              "2021-05-28         7315.0   78.0    1133.0\n",
              "2021-05-29         7806.0   99.0    1133.0\n",
              "\n",
              "[494 rows x 3 columns]"
            ]
          },
          "metadata": {},
          "execution_count": 70
        }
      ]
    },
    {
      "cell_type": "code",
      "source": [
        "# preprocessed_x.iloc[:,0]"
      ],
      "metadata": {
        "id": "oUCqO-SUOwEa"
      },
      "execution_count": null,
      "outputs": []
    },
    {
      "cell_type": "code",
      "source": [
        " preprocessed_x.index # 印出x的index"
      ],
      "metadata": {
        "id": "9pzGZVFKWQK2",
        "colab": {
          "base_uri": "https://localhost:8080/"
        },
        "outputId": "5d1eeab9-915d-4a0e-8efd-8ea7593efb6e"
      },
      "execution_count": null,
      "outputs": [
        {
          "output_type": "execute_result",
          "data": {
            "text/plain": [
              "Index([2020-01-22, 2020-01-23, 2020-01-24, 2020-01-25, 2020-01-26, 2020-01-27,\n",
              "       2020-01-28, 2020-01-29, 2020-01-30, 2020-01-31,\n",
              "       ...\n",
              "       2021-05-20, 2021-05-21, 2021-05-22, 2021-05-23, 2021-05-24, 2021-05-25,\n",
              "       2021-05-26, 2021-05-27, 2021-05-28, 2021-05-29],\n",
              "      dtype='object', name='ObservationDate', length=494)"
            ]
          },
          "metadata": {},
          "execution_count": 72
        }
      ]
    },
    {
      "cell_type": "code",
      "source": [
        "x"
      ],
      "metadata": {
        "colab": {
          "base_uri": "https://localhost:8080/",
          "height": 423
        },
        "id": "RgMpwBScbVVI",
        "outputId": "0928970e-1866-41fd-f17f-96ff122397bc"
      },
      "execution_count": null,
      "outputs": [
        {
          "output_type": "execute_result",
          "data": {
            "text/html": [
              "\n",
              "  <div id=\"df-277d23b9-e0a5-4821-a7e1-12dbb2f2ca11\">\n",
              "    <div class=\"colab-df-container\">\n",
              "      <div>\n",
              "<style scoped>\n",
              "    .dataframe tbody tr th:only-of-type {\n",
              "        vertical-align: middle;\n",
              "    }\n",
              "\n",
              "    .dataframe tbody tr th {\n",
              "        vertical-align: top;\n",
              "    }\n",
              "\n",
              "    .dataframe thead th {\n",
              "        text-align: right;\n",
              "    }\n",
              "</style>\n",
              "<table border=\"1\" class=\"dataframe\">\n",
              "  <thead>\n",
              "    <tr style=\"text-align: right;\">\n",
              "      <th></th>\n",
              "      <th>SNo</th>\n",
              "      <th>ObservationDate</th>\n",
              "      <th>Province/State</th>\n",
              "      <th>Country/Region</th>\n",
              "      <th>Last Update</th>\n",
              "      <th>Confirmed</th>\n",
              "      <th>Deaths</th>\n",
              "      <th>Recovered</th>\n",
              "    </tr>\n",
              "  </thead>\n",
              "  <tbody>\n",
              "    <tr>\n",
              "      <th>28</th>\n",
              "      <td>29</td>\n",
              "      <td>2020-01-22</td>\n",
              "      <td>Taiwan</td>\n",
              "      <td>Taiwan</td>\n",
              "      <td>1/22/2020 17:00</td>\n",
              "      <td>1.0</td>\n",
              "      <td>0.0</td>\n",
              "      <td>0.0</td>\n",
              "    </tr>\n",
              "    <tr>\n",
              "      <th>68</th>\n",
              "      <td>69</td>\n",
              "      <td>2020-01-23</td>\n",
              "      <td>Taiwan</td>\n",
              "      <td>Taiwan</td>\n",
              "      <td>1/23/20 17:00</td>\n",
              "      <td>1.0</td>\n",
              "      <td>0.0</td>\n",
              "      <td>0.0</td>\n",
              "    </tr>\n",
              "    <tr>\n",
              "      <th>111</th>\n",
              "      <td>112</td>\n",
              "      <td>2020-01-24</td>\n",
              "      <td>Taiwan</td>\n",
              "      <td>Taiwan</td>\n",
              "      <td>1/24/20 17:00</td>\n",
              "      <td>3.0</td>\n",
              "      <td>0.0</td>\n",
              "      <td>0.0</td>\n",
              "    </tr>\n",
              "    <tr>\n",
              "      <th>160</th>\n",
              "      <td>161</td>\n",
              "      <td>2020-01-25</td>\n",
              "      <td>Taiwan</td>\n",
              "      <td>Taiwan</td>\n",
              "      <td>1/25/20 17:00</td>\n",
              "      <td>3.0</td>\n",
              "      <td>0.0</td>\n",
              "      <td>0.0</td>\n",
              "    </tr>\n",
              "    <tr>\n",
              "      <th>207</th>\n",
              "      <td>208</td>\n",
              "      <td>2020-01-26</td>\n",
              "      <td>Taiwan</td>\n",
              "      <td>Taiwan</td>\n",
              "      <td>1/26/20 16:00</td>\n",
              "      <td>4.0</td>\n",
              "      <td>0.0</td>\n",
              "      <td>0.0</td>\n",
              "    </tr>\n",
              "    <tr>\n",
              "      <th>...</th>\n",
              "      <td>...</td>\n",
              "      <td>...</td>\n",
              "      <td>...</td>\n",
              "      <td>...</td>\n",
              "      <td>...</td>\n",
              "      <td>...</td>\n",
              "      <td>...</td>\n",
              "      <td>...</td>\n",
              "    </tr>\n",
              "    <tr>\n",
              "      <th>302756</th>\n",
              "      <td>302757</td>\n",
              "      <td>2021-05-25</td>\n",
              "      <td>NaN</td>\n",
              "      <td>Taiwan</td>\n",
              "      <td>2021-05-26 04:20:35</td>\n",
              "      <td>5456.0</td>\n",
              "      <td>35.0</td>\n",
              "      <td>1133.0</td>\n",
              "    </tr>\n",
              "    <tr>\n",
              "      <th>303521</th>\n",
              "      <td>303522</td>\n",
              "      <td>2021-05-26</td>\n",
              "      <td>NaN</td>\n",
              "      <td>Taiwan</td>\n",
              "      <td>2021-05-27 04:20:59</td>\n",
              "      <td>6091.0</td>\n",
              "      <td>46.0</td>\n",
              "      <td>1133.0</td>\n",
              "    </tr>\n",
              "    <tr>\n",
              "      <th>304286</th>\n",
              "      <td>304287</td>\n",
              "      <td>2021-05-27</td>\n",
              "      <td>NaN</td>\n",
              "      <td>Taiwan</td>\n",
              "      <td>2021-05-28 04:20:36</td>\n",
              "      <td>6761.0</td>\n",
              "      <td>59.0</td>\n",
              "      <td>1133.0</td>\n",
              "    </tr>\n",
              "    <tr>\n",
              "      <th>305051</th>\n",
              "      <td>305052</td>\n",
              "      <td>2021-05-28</td>\n",
              "      <td>NaN</td>\n",
              "      <td>Taiwan</td>\n",
              "      <td>2021-05-29 04:20:41</td>\n",
              "      <td>7315.0</td>\n",
              "      <td>78.0</td>\n",
              "      <td>1133.0</td>\n",
              "    </tr>\n",
              "    <tr>\n",
              "      <th>305816</th>\n",
              "      <td>305817</td>\n",
              "      <td>2021-05-29</td>\n",
              "      <td>NaN</td>\n",
              "      <td>Taiwan</td>\n",
              "      <td>2021-05-30 04:20:55</td>\n",
              "      <td>7806.0</td>\n",
              "      <td>99.0</td>\n",
              "      <td>1133.0</td>\n",
              "    </tr>\n",
              "  </tbody>\n",
              "</table>\n",
              "<p>494 rows × 8 columns</p>\n",
              "</div>\n",
              "      <button class=\"colab-df-convert\" onclick=\"convertToInteractive('df-277d23b9-e0a5-4821-a7e1-12dbb2f2ca11')\"\n",
              "              title=\"Convert this dataframe to an interactive table.\"\n",
              "              style=\"display:none;\">\n",
              "        \n",
              "  <svg xmlns=\"http://www.w3.org/2000/svg\" height=\"24px\"viewBox=\"0 0 24 24\"\n",
              "       width=\"24px\">\n",
              "    <path d=\"M0 0h24v24H0V0z\" fill=\"none\"/>\n",
              "    <path d=\"M18.56 5.44l.94 2.06.94-2.06 2.06-.94-2.06-.94-.94-2.06-.94 2.06-2.06.94zm-11 1L8.5 8.5l.94-2.06 2.06-.94-2.06-.94L8.5 2.5l-.94 2.06-2.06.94zm10 10l.94 2.06.94-2.06 2.06-.94-2.06-.94-.94-2.06-.94 2.06-2.06.94z\"/><path d=\"M17.41 7.96l-1.37-1.37c-.4-.4-.92-.59-1.43-.59-.52 0-1.04.2-1.43.59L10.3 9.45l-7.72 7.72c-.78.78-.78 2.05 0 2.83L4 21.41c.39.39.9.59 1.41.59.51 0 1.02-.2 1.41-.59l7.78-7.78 2.81-2.81c.8-.78.8-2.07 0-2.86zM5.41 20L4 18.59l7.72-7.72 1.47 1.35L5.41 20z\"/>\n",
              "  </svg>\n",
              "      </button>\n",
              "      \n",
              "  <style>\n",
              "    .colab-df-container {\n",
              "      display:flex;\n",
              "      flex-wrap:wrap;\n",
              "      gap: 12px;\n",
              "    }\n",
              "\n",
              "    .colab-df-convert {\n",
              "      background-color: #E8F0FE;\n",
              "      border: none;\n",
              "      border-radius: 50%;\n",
              "      cursor: pointer;\n",
              "      display: none;\n",
              "      fill: #1967D2;\n",
              "      height: 32px;\n",
              "      padding: 0 0 0 0;\n",
              "      width: 32px;\n",
              "    }\n",
              "\n",
              "    .colab-df-convert:hover {\n",
              "      background-color: #E2EBFA;\n",
              "      box-shadow: 0px 1px 2px rgba(60, 64, 67, 0.3), 0px 1px 3px 1px rgba(60, 64, 67, 0.15);\n",
              "      fill: #174EA6;\n",
              "    }\n",
              "\n",
              "    [theme=dark] .colab-df-convert {\n",
              "      background-color: #3B4455;\n",
              "      fill: #D2E3FC;\n",
              "    }\n",
              "\n",
              "    [theme=dark] .colab-df-convert:hover {\n",
              "      background-color: #434B5C;\n",
              "      box-shadow: 0px 1px 3px 1px rgba(0, 0, 0, 0.15);\n",
              "      filter: drop-shadow(0px 1px 2px rgba(0, 0, 0, 0.3));\n",
              "      fill: #FFFFFF;\n",
              "    }\n",
              "  </style>\n",
              "\n",
              "      <script>\n",
              "        const buttonEl =\n",
              "          document.querySelector('#df-277d23b9-e0a5-4821-a7e1-12dbb2f2ca11 button.colab-df-convert');\n",
              "        buttonEl.style.display =\n",
              "          google.colab.kernel.accessAllowed ? 'block' : 'none';\n",
              "\n",
              "        async function convertToInteractive(key) {\n",
              "          const element = document.querySelector('#df-277d23b9-e0a5-4821-a7e1-12dbb2f2ca11');\n",
              "          const dataTable =\n",
              "            await google.colab.kernel.invokeFunction('convertToInteractive',\n",
              "                                                     [key], {});\n",
              "          if (!dataTable) return;\n",
              "\n",
              "          const docLinkHtml = 'Like what you see? Visit the ' +\n",
              "            '<a target=\"_blank\" href=https://colab.research.google.com/notebooks/data_table.ipynb>data table notebook</a>'\n",
              "            + ' to learn more about interactive tables.';\n",
              "          element.innerHTML = '';\n",
              "          dataTable['output_type'] = 'display_data';\n",
              "          await google.colab.output.renderOutput(dataTable, element);\n",
              "          const docLink = document.createElement('div');\n",
              "          docLink.innerHTML = docLinkHtml;\n",
              "          element.appendChild(docLink);\n",
              "        }\n",
              "      </script>\n",
              "    </div>\n",
              "  </div>\n",
              "  "
            ],
            "text/plain": [
              "           SNo ObservationDate Province/State  ... Confirmed Deaths  Recovered\n",
              "28          29      2020-01-22         Taiwan  ...       1.0    0.0        0.0\n",
              "68          69      2020-01-23         Taiwan  ...       1.0    0.0        0.0\n",
              "111        112      2020-01-24         Taiwan  ...       3.0    0.0        0.0\n",
              "160        161      2020-01-25         Taiwan  ...       3.0    0.0        0.0\n",
              "207        208      2020-01-26         Taiwan  ...       4.0    0.0        0.0\n",
              "...        ...             ...            ...  ...       ...    ...        ...\n",
              "302756  302757      2021-05-25            NaN  ...    5456.0   35.0     1133.0\n",
              "303521  303522      2021-05-26            NaN  ...    6091.0   46.0     1133.0\n",
              "304286  304287      2021-05-27            NaN  ...    6761.0   59.0     1133.0\n",
              "305051  305052      2021-05-28            NaN  ...    7315.0   78.0     1133.0\n",
              "305816  305817      2021-05-29            NaN  ...    7806.0   99.0     1133.0\n",
              "\n",
              "[494 rows x 8 columns]"
            ]
          },
          "metadata": {},
          "execution_count": 73
        }
      ]
    },
    {
      "cell_type": "markdown",
      "source": [
        "Confirmed-Recovered-Deaths Plot of Taiwan"
      ],
      "metadata": {
        "id": "-8_NiVJhWVC0"
      }
    },
    {
      "cell_type": "code",
      "source": [
        "plt.figure(figsize=(12,7))\n",
        "plt.title('COVID-19 Confirmed-Recovered-Deaths Plot of Taiwan')\n",
        "plt.xlabel(\"date\")\n",
        "plt.ylabel(\"numbers\")\n",
        "xplot = preprocessed_x.index # 橫軸為日期\n",
        "y_confirmed = preprocessed_x.iloc[:,0].values # 縱軸為確診數\n",
        "y_deaths = preprocessed_x.iloc[:,1].values    # 縱軸為死亡數\n",
        "y_recovered = preprocessed_x.iloc[:,2].values # 縱軸為復原數\n",
        "\n",
        "plt.plot(xplot,y_confirmed, label='Confirmed',color='black')\n",
        "plt.plot(xplot,y_recovered, label='Recovered',color='orange')\n",
        "plt.plot(xplot,y_deaths, label='Deaths',color='g')\n",
        "plt.legend(loc='upper right')\n",
        "plt.show()"
      ],
      "metadata": {
        "id": "2kHHlPc_WQcp",
        "colab": {
          "base_uri": "https://localhost:8080/",
          "height": 458
        },
        "outputId": "f5deed23-2d7f-4c4d-9147-41d911acf3d9"
      },
      "execution_count": null,
      "outputs": [
        {
          "output_type": "display_data",
          "data": {
            "image/png": "[encoded data removed]",
            "text/plain": [
              "<Figure size 864x504 with 1 Axes>"
            ]
          },
          "metadata": {
            "needs_background": "light"
          }
        }
      ]
    },
    {
      "cell_type": "markdown",
      "source": [
        "累積病例數"
      ],
      "metadata": {
        "id": "ghnz__WAaCO9"
      }
    },
    {
      "cell_type": "code",
      "source": [
        "fig = plt.figure()\n",
        "ax = fig.add_axes([0,0,1,1])\n",
        "ax.bar(xplot,y_confirmed)\n",
        "plt.show()"
      ],
      "metadata": {
        "colab": {
          "base_uri": "https://localhost:8080/",
          "height": 336
        },
        "id": "ZvxlRa-bZC4O",
        "outputId": "edd1fb7b-aed5-4200-aa14-f3a5cf5ff1c5"
      },
      "execution_count": null,
      "outputs": [
        {
          "output_type": "display_data",
          "data": {
            "image/png": "[encoded data removed]",
            "text/plain": [
              "<Figure size 432x288 with 1 Axes>"
            ]
          },
          "metadata": {
            "needs_background": "light"
          }
        }
      ]
    },
    {
      "cell_type": "markdown",
      "source": [
        "累積死亡數"
      ],
      "metadata": {
        "id": "CLGxsNoaaNlu"
      }
    },
    {
      "cell_type": "code",
      "source": [
        "fig = plt.figure()\n",
        "ax = fig.add_axes([0,0,1,1])\n",
        "ax.bar(xplot,y_deaths)\n",
        "plt.show()"
      ],
      "metadata": {
        "colab": {
          "base_uri": "https://localhost:8080/",
          "height": 336
        },
        "id": "6CmbrcxuaP-S",
        "outputId": "d555ca19-e01a-4593-cdf1-e179eeb7b6cd"
      },
      "execution_count": null,
      "outputs": [
        {
          "output_type": "display_data",
          "data": {
            "image/png": "[encoded data removed]",
            "text/plain": [
              "<Figure size 432x288 with 1 Axes>"
            ]
          },
          "metadata": {
            "needs_background": "light"
          }
        }
      ]
    },
    {
      "cell_type": "markdown",
      "source": [
        "累積復原數"
      ],
      "metadata": {
        "id": "2h0fKw4RaaIr"
      }
    },
    {
      "cell_type": "code",
      "source": [
        "fig = plt.figure()\n",
        "ax = fig.add_axes([0,0,1,1])\n",
        "ax.bar(xplot,y_recovered)\n",
        "plt.show()"
      ],
      "metadata": {
        "colab": {
          "base_uri": "https://localhost:8080/",
          "height": 336
        },
        "id": "5XDAhfAbagQw",
        "outputId": "337c3d12-5d91-4e21-b920-04a186cb44dc"
      },
      "execution_count": null,
      "outputs": [
        {
          "output_type": "display_data",
          "data": {
            "image/png": "[encoded data removed]",
            "text/plain": [
              "<Figure size 432x288 with 1 Axes>"
            ]
          },
          "metadata": {
            "needs_background": "light"
          }
        }
      ]
    },
    {
      "cell_type": "markdown",
      "source": [
        "Using the historical day Predicting the deaths ,confirmed cases and recovered on that day"
      ],
      "metadata": {
        "id": "Lx4RFVJ4Wjl8"
      }
    },
    {
      "cell_type": "code",
      "source": [
        "import math\n",
        "from keras.models import Sequential\n",
        "from keras.layers import Dense\n",
        "from keras.layers import LSTM\n",
        "from sklearn.preprocessing import MinMaxScaler\n",
        "from sklearn.metrics import mean_squared_error\n",
        "from tensorflow.python.keras.callbacks import EarlyStopping\n",
        "from tensorflow.python.keras.callbacks import ModelCheckpoint\n",
        "from tensorflow.python.keras.models import load_model"
      ],
      "metadata": {
        "id": "IO0YmDq7WmFf"
      },
      "execution_count": null,
      "outputs": []
    },
    {
      "cell_type": "code",
      "source": [
        "# convert an array of values into a dataset matrix\n",
        "def create_dataset(dataset, look_back):\n",
        "    dataX, dataY = [], []\n",
        "    for i in range(len(dataset)-look_back-1):\n",
        "        a = dataset[i:(i+look_back)]\n",
        "        dataX.append(a)\n",
        "        dataY.append(dataset[i + look_back])\n",
        "    return np.array(dataX), np.array(dataY)\n",
        "# fix random seed for reproducibility\n",
        "np.random.seed(7)\n",
        "# load the dataset"
      ],
      "metadata": {
        "id": "GV34aRHWWomD"
      },
      "execution_count": null,
      "outputs": []
    },
    {
      "cell_type": "code",
      "source": [
        "X = []\n",
        "for i in range(len(xplot)):\n",
        "  X.append(i)"
      ],
      "metadata": {
        "id": "oOXwO9U-WqmW"
      },
      "execution_count": null,
      "outputs": []
    },
    {
      "cell_type": "markdown",
      "source": [
        "CONFIRMED TIME SERIES ANALYSIS TAIWAN"
      ],
      "metadata": {
        "id": "woBzEVRHWuPW"
      }
    },
    {
      "cell_type": "code",
      "source": [
        "confirmed = y_confirmed"
      ],
      "metadata": {
        "id": "I5To0LEwqE3K"
      },
      "execution_count": null,
      "outputs": []
    },
    {
      "cell_type": "code",
      "source": [
        "# split into train and test sets\n",
        "train_size = 300\n",
        "test_size = len(y_confirmed) - train_size\n",
        "trainX,testX = X[0:train_size],X[train_size:]\n",
        "trainY, testY = y_confirmed[0:train_size], y_confirmed[train_size:]"
      ],
      "metadata": {
        "id": "xcs2j0X7yzuf"
      },
      "execution_count": null,
      "outputs": []
    },
    {
      "cell_type": "code",
      "source": [
        "look_back = 3\n",
        "trainX, trainY = create_dataset(trainY, look_back)\n",
        "testX, testY = create_dataset(testY, look_back)"
      ],
      "metadata": {
        "id": "jjS3xnQdWxjF"
      },
      "execution_count": null,
      "outputs": []
    },
    {
      "cell_type": "code",
      "source": [
        "print(trainX.shape,trainY.shape,testX.shape, testY.shape)"
      ],
      "metadata": {
        "id": "Yn80EGqCW1iq",
        "colab": {
          "base_uri": "https://localhost:8080/"
        },
        "outputId": "0113e7c5-0b03-47df-c412-fe02e0a5885a"
      },
      "execution_count": null,
      "outputs": [
        {
          "output_type": "stream",
          "name": "stdout",
          "text": [
            "(296, 3) (296,) (190, 3) (190,)\n"
          ]
        }
      ]
    },
    {
      "cell_type": "code",
      "source": [
        "#trainX = np.reshape(trainX, (trainX.shape[0], trainX.shape[1], 1))\n",
        "#testX = np.reshape(testX, (testX.shape[0], testX.shape[1], 1))"
      ],
      "metadata": {
        "id": "HOhqujSPXJXP"
      },
      "execution_count": null,
      "outputs": []
    },
    {
      "cell_type": "code",
      "source": [
        "model = Sequential()\n",
        "model.add(LSTM(20, input_shape=(look_back, 1), activation='relu'))\n",
        "model.add(Dense(64, activation='relu'))\n",
        "model.add(Dense(8, activation='relu'))\n",
        "model.add(Dense(1))\n",
        "#model.compile(loss='mean_squared_error', optimizer='adam')\n",
        "model.compile(loss='MSE', optimizer='adam')\n",
        "history = model.fit(trainX, trainY, epochs=100, batch_size=8)"
      ],
      "metadata": {
        "id": "SLUnCUFfXMgo",
        "colab": {
          "base_uri": "https://localhost:8080/"
        },
        "outputId": "77502b86-1ebe-4984-ca84-536d092b4e54"
      },
      "execution_count": null,
      "outputs": [
        {
          "output_type": "stream",
          "name": "stdout",
          "text": [
            "Epoch 1/100\n",
            "37/37 [==============================] - 1s 3ms/step - loss: 146474.8750\n",
            "Epoch 2/100\n",
            "37/37 [==============================] - 0s 3ms/step - loss: 36867.2578\n",
            "Epoch 3/100\n",
            "37/37 [==============================] - 0s 3ms/step - loss: 161.6002\n",
            "Epoch 4/100\n",
            "37/37 [==============================] - 0s 4ms/step - loss: 60.4948\n",
            "Epoch 5/100\n",
            "37/37 [==============================] - 0s 3ms/step - loss: 57.3528\n",
            "Epoch 6/100\n",
            "37/37 [==============================] - 0s 4ms/step - loss: 56.2305\n",
            "Epoch 7/100\n",
            "37/37 [==============================] - 0s 3ms/step - loss: 53.3906\n",
            "Epoch 8/100\n",
            "37/37 [==============================] - 0s 3ms/step - loss: 45.8922\n",
            "Epoch 9/100\n",
            "37/37 [==============================] - 0s 3ms/step - loss: 32.7368\n",
            "Epoch 10/100\n",
            "37/37 [==============================] - 0s 3ms/step - loss: 12.9679\n",
            "Epoch 11/100\n",
            "37/37 [==============================] - 0s 4ms/step - loss: 15.0211\n",
            "Epoch 12/100\n",
            "37/37 [==============================] - 0s 3ms/step - loss: 30.5043\n",
            "Epoch 13/100\n",
            "37/37 [==============================] - 0s 3ms/step - loss: 11.9542\n",
            "Epoch 14/100\n",
            "37/37 [==============================] - 0s 3ms/step - loss: 10.3334\n",
            "Epoch 15/100\n",
            "37/37 [==============================] - 0s 3ms/step - loss: 10.9432\n",
            "Epoch 16/100\n",
            "37/37 [==============================] - 0s 3ms/step - loss: 11.4423\n",
            "Epoch 17/100\n",
            "37/37 [==============================] - 0s 3ms/step - loss: 13.9507\n",
            "Epoch 18/100\n",
            "37/37 [==============================] - 0s 3ms/step - loss: 10.9987\n",
            "Epoch 19/100\n",
            "37/37 [==============================] - 0s 3ms/step - loss: 10.7435\n",
            "Epoch 20/100\n",
            "37/37 [==============================] - 0s 3ms/step - loss: 16.7042\n",
            "Epoch 21/100\n",
            "37/37 [==============================] - 0s 4ms/step - loss: 9.6586\n",
            "Epoch 22/100\n",
            "37/37 [==============================] - 0s 4ms/step - loss: 13.3547\n",
            "Epoch 23/100\n",
            "37/37 [==============================] - 0s 4ms/step - loss: 9.0860\n",
            "Epoch 24/100\n",
            "37/37 [==============================] - 0s 3ms/step - loss: 11.3094\n",
            "Epoch 25/100\n",
            "37/37 [==============================] - 0s 3ms/step - loss: 14.7874\n",
            "Epoch 26/100\n",
            "37/37 [==============================] - 0s 4ms/step - loss: 10.4076\n",
            "Epoch 27/100\n",
            "37/37 [==============================] - 0s 4ms/step - loss: 9.6182\n",
            "Epoch 28/100\n",
            "37/37 [==============================] - 0s 3ms/step - loss: 12.0528\n",
            "Epoch 29/100\n",
            "37/37 [==============================] - 0s 3ms/step - loss: 9.4312\n",
            "Epoch 30/100\n",
            "37/37 [==============================] - 0s 3ms/step - loss: 11.2697\n",
            "Epoch 31/100\n",
            "37/37 [==============================] - 0s 3ms/step - loss: 14.6580\n",
            "Epoch 32/100\n",
            "37/37 [==============================] - 0s 3ms/step - loss: 12.8102\n",
            "Epoch 33/100\n",
            "37/37 [==============================] - 0s 4ms/step - loss: 15.3036\n",
            "Epoch 34/100\n",
            "37/37 [==============================] - 0s 3ms/step - loss: 14.3809\n",
            "Epoch 35/100\n",
            "37/37 [==============================] - 0s 3ms/step - loss: 11.9661\n",
            "Epoch 36/100\n",
            "37/37 [==============================] - 0s 3ms/step - loss: 10.8105\n",
            "Epoch 37/100\n",
            "37/37 [==============================] - 0s 3ms/step - loss: 10.0819\n",
            "Epoch 38/100\n",
            "37/37 [==============================] - 0s 3ms/step - loss: 12.8154\n",
            "Epoch 39/100\n",
            "37/37 [==============================] - 0s 3ms/step - loss: 10.9142\n",
            "Epoch 40/100\n",
            "37/37 [==============================] - 0s 3ms/step - loss: 11.2731\n",
            "Epoch 41/100\n",
            "37/37 [==============================] - 0s 3ms/step - loss: 10.6211\n",
            "Epoch 42/100\n",
            "37/37 [==============================] - 0s 3ms/step - loss: 10.8951\n",
            "Epoch 43/100\n",
            "37/37 [==============================] - 0s 4ms/step - loss: 9.8230\n",
            "Epoch 44/100\n",
            "37/37 [==============================] - 0s 4ms/step - loss: 9.9099\n",
            "Epoch 45/100\n",
            "37/37 [==============================] - 0s 3ms/step - loss: 10.5788\n",
            "Epoch 46/100\n",
            "37/37 [==============================] - 0s 4ms/step - loss: 9.6908\n",
            "Epoch 47/100\n",
            "37/37 [==============================] - 0s 3ms/step - loss: 12.5185\n",
            "Epoch 48/100\n",
            "37/37 [==============================] - 0s 3ms/step - loss: 11.0159\n",
            "Epoch 49/100\n",
            "37/37 [==============================] - 0s 3ms/step - loss: 9.2232\n",
            "Epoch 50/100\n",
            "37/37 [==============================] - 0s 4ms/step - loss: 9.9285\n",
            "Epoch 51/100\n",
            "37/37 [==============================] - 0s 3ms/step - loss: 16.1030\n",
            "Epoch 52/100\n",
            "37/37 [==============================] - 0s 3ms/step - loss: 20.8301\n",
            "Epoch 53/100\n",
            "37/37 [==============================] - 0s 4ms/step - loss: 12.8313\n",
            "Epoch 54/100\n",
            "37/37 [==============================] - 0s 3ms/step - loss: 10.2537\n",
            "Epoch 55/100\n",
            "37/37 [==============================] - 0s 3ms/step - loss: 9.8079\n",
            "Epoch 56/100\n",
            "37/37 [==============================] - 0s 3ms/step - loss: 11.3724\n",
            "Epoch 57/100\n",
            "37/37 [==============================] - 0s 4ms/step - loss: 8.8530\n",
            "Epoch 58/100\n",
            "37/37 [==============================] - 0s 4ms/step - loss: 8.7213\n",
            "Epoch 59/100\n",
            "37/37 [==============================] - 0s 4ms/step - loss: 8.6942\n",
            "Epoch 60/100\n",
            "37/37 [==============================] - 0s 3ms/step - loss: 9.4973\n",
            "Epoch 61/100\n",
            "37/37 [==============================] - 0s 3ms/step - loss: 10.4961\n",
            "Epoch 62/100\n",
            "37/37 [==============================] - 0s 3ms/step - loss: 8.8455\n",
            "Epoch 63/100\n",
            "37/37 [==============================] - 0s 3ms/step - loss: 11.3652\n",
            "Epoch 64/100\n",
            "37/37 [==============================] - 0s 4ms/step - loss: 8.5379\n",
            "Epoch 65/100\n",
            "37/37 [==============================] - 0s 4ms/step - loss: 14.4121\n",
            "Epoch 66/100\n",
            "37/37 [==============================] - 0s 3ms/step - loss: 17.3956\n",
            "Epoch 67/100\n",
            "37/37 [==============================] - 0s 3ms/step - loss: 17.0953\n",
            "Epoch 68/100\n",
            "37/37 [==============================] - 0s 3ms/step - loss: 10.5435\n",
            "Epoch 69/100\n",
            "37/37 [==============================] - 0s 4ms/step - loss: 13.5647\n",
            "Epoch 70/100\n",
            "37/37 [==============================] - 0s 4ms/step - loss: 10.7577\n",
            "Epoch 71/100\n",
            "37/37 [==============================] - 0s 3ms/step - loss: 13.0000\n",
            "Epoch 72/100\n",
            "37/37 [==============================] - 0s 3ms/step - loss: 9.5658\n",
            "Epoch 73/100\n",
            "37/37 [==============================] - 0s 3ms/step - loss: 8.4819\n",
            "Epoch 74/100\n",
            "37/37 [==============================] - 0s 3ms/step - loss: 8.9806\n",
            "Epoch 75/100\n",
            "37/37 [==============================] - 0s 3ms/step - loss: 10.1798\n",
            "Epoch 76/100\n",
            "37/37 [==============================] - 0s 3ms/step - loss: 11.2744\n",
            "Epoch 77/100\n",
            "37/37 [==============================] - 0s 3ms/step - loss: 10.8443\n",
            "Epoch 78/100\n",
            "37/37 [==============================] - 0s 3ms/step - loss: 11.8073\n",
            "Epoch 79/100\n",
            "37/37 [==============================] - 0s 3ms/step - loss: 9.7120\n",
            "Epoch 80/100\n",
            "37/37 [==============================] - 0s 3ms/step - loss: 10.0805\n",
            "Epoch 81/100\n",
            "37/37 [==============================] - 0s 3ms/step - loss: 35.2044\n",
            "Epoch 82/100\n",
            "37/37 [==============================] - 0s 3ms/step - loss: 26.5884\n",
            "Epoch 83/100\n",
            "37/37 [==============================] - 0s 3ms/step - loss: 16.2290\n",
            "Epoch 84/100\n",
            "37/37 [==============================] - 0s 3ms/step - loss: 12.5539\n",
            "Epoch 85/100\n",
            "37/37 [==============================] - 0s 3ms/step - loss: 14.5313\n",
            "Epoch 86/100\n",
            "37/37 [==============================] - 0s 3ms/step - loss: 10.6577\n",
            "Epoch 87/100\n",
            "37/37 [==============================] - 0s 3ms/step - loss: 10.7210\n",
            "Epoch 88/100\n",
            "37/37 [==============================] - 0s 3ms/step - loss: 16.1286\n",
            "Epoch 89/100\n",
            "37/37 [==============================] - 0s 3ms/step - loss: 13.0406\n",
            "Epoch 90/100\n",
            "37/37 [==============================] - 0s 3ms/step - loss: 14.7286\n",
            "Epoch 91/100\n",
            "37/37 [==============================] - 0s 3ms/step - loss: 8.9394\n",
            "Epoch 92/100\n",
            "37/37 [==============================] - 0s 4ms/step - loss: 8.4700\n",
            "Epoch 93/100\n",
            "37/37 [==============================] - 0s 3ms/step - loss: 8.0356\n",
            "Epoch 94/100\n",
            "37/37 [==============================] - 0s 3ms/step - loss: 8.3783\n",
            "Epoch 95/100\n",
            "37/37 [==============================] - 0s 3ms/step - loss: 8.8663\n",
            "Epoch 96/100\n",
            "37/37 [==============================] - 0s 3ms/step - loss: 11.7273\n",
            "Epoch 97/100\n",
            "37/37 [==============================] - 0s 3ms/step - loss: 13.3097\n",
            "Epoch 98/100\n",
            "37/37 [==============================] - 0s 3ms/step - loss: 13.0459\n",
            "Epoch 99/100\n",
            "37/37 [==============================] - 0s 3ms/step - loss: 9.5312\n",
            "Epoch 100/100\n",
            "37/37 [==============================] - 0s 3ms/step - loss: 8.9591\n"
          ]
        }
      ]
    },
    {
      "cell_type": "code",
      "source": [
        "import tensorflow as tf"
      ],
      "metadata": {
        "id": "NPu5bNTim6ha"
      },
      "execution_count": null,
      "outputs": []
    },
    {
      "cell_type": "code",
      "source": [
        "# THe function generates predictions from the model for a given series\n",
        "def model_forecast(model,series,window_size):\n",
        "  ds = tf.data.Dataset.from_tensor_slices(series) # 它的作用是切分傳入Tensor的第一個維度，生成相應的dataset。將輸入的張量的第一個維度看做樣本的個數，沿其第一個維度將tensor切片，得到的每個切片是一個樣本數據。實現了輸入張量的自動切片\n",
        "  ds = ds.window(window_size,shift=1,drop_remainder = True) # 滑動視窗，而drop_remainder=True表示丟棄不足窗口寬度的數據\n",
        "  ds = ds.flat_map(lambda w: w.batch(window_size+1)) #可以獲取數據集的數據集並將其展平為單個數據集\n",
        "  ds = ds.batch(32).prefetch(1) #batch(32) -> 每次取32個，prefetch()：在訓練時，同時讀取下一批資料，並作轉換。\n",
        "  return model.predict(ds)"
      ],
      "metadata": {
        "id": "GkGbmAGpGD-q"
      },
      "execution_count": null,
      "outputs": []
    },
    {
      "cell_type": "code",
      "source": [
        "forecast = model_forecast(model,y_confirmed[train_size-look_back:-1],look_back)\n",
        "forecast = forecast[:,0]"
      ],
      "metadata": {
        "id": "0CEzasQrGF3W"
      },
      "execution_count": null,
      "outputs": []
    },
    {
      "cell_type": "code",
      "source": [
        "plt.figure(figsize = (12,7))\n",
        "plt.plot(forecast,label = 'Forecasted Confirmed')\n",
        "plt.plot(confirmed[train_size:],label = 'Actual Confirmed')\n",
        "plt.legend(loc = 'upper left')\n",
        "plt.legend()\n",
        "plt.xlabel('Days')\n",
        "plt.ylabel('Confirmed/day')\n",
        "plt.title('Predicted Confirmed vs Actual Confirmed in Taiwan')\n",
        "plt.show()\n",
        "\n",
        "print(forecast)\n",
        "print(confirmed[train_size:])"
      ],
      "metadata": {
        "id": "X0kCBTrkXcly",
        "colab": {
          "base_uri": "https://localhost:8080/",
          "height": 1000
        },
        "outputId": "b13552d0-f7d4-4b7f-e15c-ee0fb03c70b1"
      },
      "execution_count": null,
      "outputs": [
        {
          "output_type": "display_data",
          "data": {
            "image/png": "[encoded data removed]",
            "text/plain": [
              "<Figure size 864x504 with 1 Axes>"
            ]
          },
          "metadata": {
            "needs_background": "light"
          }
        },
        {
          "output_type": "stream",
          "name": "stdout",
          "text": [
            "[ 601.8685   603.5873   605.2832   607.2761   609.26917  610.4114\n",
            "  613.55756  615.6303   617.68494  620.1089   622.3333   630.3209\n",
            "  638.59576  646.50116  660.2026   669.41656  680.1823   683.4495\n",
            "  687.20496  690.30707  701.95337  709.2195   716.58704  717.99054\n",
            "  720.83716  722.9607   727.8248   731.6089   736.50995  739.3555\n",
            "  744.0709   750.0019   755.13947  759.76404  762.7392   764.7542\n",
            "  767.3443   771.00275  773.848    777.32697  779.7097   782.5755\n",
            "  787.4202   791.07733  794.8516   796.8483   799.2703   803.245\n",
            "  807.4957   811.65643  814.52264  816.81573  819.2377   821.93665\n",
            "  824.9318   826.6512   830.0919   833.45404  838.0404   840.3329\n",
            "  841.94336  845.6226   849.8349   856.2898   861.96484  866.5508\n",
            "  873.5607   877.1991   881.7342   884.69135  886.9647   888.8714\n",
            "  890.4244   892.40186  895.54596  901.4991   906.30396  910.2461\n",
            "  912.3916   914.36926  916.6625   919.5102   921.6357   924.3738\n",
            "  925.9262   929.2186   931.7501   934.2107   935.5056   936.07886\n",
            "  936.3752   936.3752   936.3752   936.80054  937.92804  939.20337\n",
            "  940.49835  941.07153  941.36786  941.36786  943.06903  946.3033\n",
            "  948.87317  951.63055  952.8868   954.05255  954.349    955.6249\n",
            "  957.30615  958.7491   962.3189   965.108    970.71313  973.66956\n",
            "  976.446    977.0193   979.86755  981.52905  983.73236  986.1358\n",
            "  987.8168   989.2984   992.7009   997.4682  1001.9256  1004.40594\n",
            " 1004.9792  1005.7006  1006.8282  1008.95435 1010.80304 1014.9462\n",
            " 1018.03174 1021.0851  1022.3801  1025.5052  1030.0153  1034.7307\n",
            " 1039.8912  1043.2925  1046.0497  1047.7699  1048.62    1049.2126\n",
            " 1050.9138  1052.8724  1055.0369  1056.3318  1058.6063  1062.1368\n",
            " 1065.1322  1067.7415  1069.4423  1071.0142  1073.1597  1075.1377\n",
            " 1078.2815  1081.6832  1085.6777  1090.9481  1095.3477  1099.9541\n",
            " 1104.5029  1109.9016  1115.4679  1121.6077  1126.7294  1132.0381\n",
            " 1138.0106  1145.1102  1152.6738  1162.5121  1170.3132  1177.6768\n",
            " 1180.9686  1189.1068  1198.2357  1214.6588  1234.3672  1261.9746\n",
            " 1357.4825  1506.8335  1761.4639  2018.9341  2301.6152  2573.4233\n",
            " 2868.7405  3349.7349  3838.6619  4433.3696  4963.7124  5559.382\n",
            " 6179.929   6789.281  ]\n",
            "[ 605.  607.  609.  611.  611.  617.  618.  618.  623.  625.  639.  648.\n",
            "  651.  675.  679.  685.  686.  690.  694.  716.  716.  718.  720.  724.\n",
            "  725.  733.  736.  740.  742.  749.  757.  759.  763.  766.  766.  770.\n",
            "  776.  776.  780.  783.  785.  793.  795.  797.  799.  802.  808.  812.\n",
            "  815.  817.  819.  822.  825.  828.  828.  834.  838.  842.  842.  843.\n",
            "  851.  855.  862.  868.  870.  881.  881.  884.  889.  889.  890.  893.\n",
            "  895.  899.  909.  911.  912.  915.  917.  919.  923.  924.  927.  928.\n",
            "  933.  935.  936.  937.  937.  937.  937.  937.  938.  940.  941.  942.\n",
            "  942.  942.  942.  946.  951.  951.  954.  955.  955.  955.  958.  960.\n",
            "  960.  967.  969.  976.  977.  978.  978.  984.  984.  985.  990.  990.\n",
            "  990.  998. 1004. 1005. 1006. 1006. 1007. 1009. 1012. 1013. 1020. 1022.\n",
            " 1023. 1024. 1030. 1036. 1039. 1045. 1047. 1048. 1050. 1050. 1050. 1054.\n",
            " 1056. 1057. 1058. 1062. 1067. 1068. 1070. 1072. 1073. 1076. 1078. 1082.\n",
            " 1086. 1090. 1097. 1100. 1104. 1110. 1116. 1121. 1128. 1132. 1137. 1145.\n",
            " 1153. 1160. 1173. 1178. 1183. 1184. 1199. 1210. 1231. 1256. 1290. 1475.\n",
            " 1682. 2017. 2260. 2533. 2825. 3139. 3862. 4322. 4917. 5456. 6091. 6761.\n",
            " 7315. 7806.]\n"
          ]
        }
      ]
    },
    {
      "cell_type": "markdown",
      "source": [
        "Deaths Time Series Analaysis Taiwan"
      ],
      "metadata": {
        "id": "WU0q23yxX0nE"
      }
    },
    {
      "cell_type": "code",
      "source": [
        "deaths = y_deaths"
      ],
      "metadata": {
        "id": "PHiTpBz1rBkr"
      },
      "execution_count": null,
      "outputs": []
    },
    {
      "cell_type": "code",
      "source": [
        "# split into train and test sets\n",
        "train_size = 300\n",
        "test_size = len(y_deaths) - train_size\n",
        "trainX,testX = X[0:train_size],X[train_size:]\n",
        "trainY, testY = y_deaths[0:train_size], y_deaths[train_size:]"
      ],
      "metadata": {
        "id": "z1sJZfAL1DZh"
      },
      "execution_count": null,
      "outputs": []
    },
    {
      "cell_type": "code",
      "source": [
        "look_back = 3\n",
        "trainX, trainY = create_dataset(trainY, look_back)\n",
        "testX, testY = create_dataset(testY, look_back)"
      ],
      "metadata": {
        "id": "zN8_NE4GX4eK"
      },
      "execution_count": null,
      "outputs": []
    },
    {
      "cell_type": "code",
      "source": [
        "print(trainX.shape,trainY.shape,testX.shape, testY.shape)"
      ],
      "metadata": {
        "colab": {
          "base_uri": "https://localhost:8080/"
        },
        "id": "t8U2tJTE1lF2",
        "outputId": "97c42744-d59c-415f-82fb-76210d14203e"
      },
      "execution_count": null,
      "outputs": [
        {
          "output_type": "stream",
          "name": "stdout",
          "text": [
            "(296, 3) (296,) (190, 3) (190,)\n"
          ]
        }
      ]
    },
    {
      "cell_type": "code",
      "source": [
        "model = Sequential()\n",
        "model.add(LSTM(20, input_shape=(look_back, 1), activation='relu'))\n",
        "model.add(Dense(64, activation='relu'))\n",
        "model.add(Dense(8, activation='relu'))\n",
        "model.add(Dense(1))\n",
        "#model.compile(loss='mean_squared_error', optimizer='adam')\n",
        "model.compile(loss='MSE', optimizer='adam')\n",
        "history = model.fit(trainX, trainY, epochs=100, batch_size=8)\n"
      ],
      "metadata": {
        "id": "jWAPyBD8X76K",
        "colab": {
          "base_uri": "https://localhost:8080/"
        },
        "outputId": "c685b4cb-73ef-46d6-8178-67c24597907e"
      },
      "execution_count": null,
      "outputs": [
        {
          "output_type": "stream",
          "name": "stdout",
          "text": [
            "Epoch 1/100\n",
            "37/37 [==============================] - 1s 3ms/step - loss: 132445.5938\n",
            "Epoch 2/100\n",
            "37/37 [==============================] - 0s 3ms/step - loss: 56448.5195\n",
            "Epoch 3/100\n",
            "37/37 [==============================] - 0s 3ms/step - loss: 1754.5950\n",
            "Epoch 4/100\n",
            "37/37 [==============================] - 0s 3ms/step - loss: 76.1687\n",
            "Epoch 5/100\n",
            "37/37 [==============================] - 0s 3ms/step - loss: 23.8208\n",
            "Epoch 6/100\n",
            "37/37 [==============================] - 0s 3ms/step - loss: 13.4434\n",
            "Epoch 7/100\n",
            "37/37 [==============================] - 0s 4ms/step - loss: 13.6370\n",
            "Epoch 8/100\n",
            "37/37 [==============================] - 0s 3ms/step - loss: 13.9972\n",
            "Epoch 9/100\n",
            "37/37 [==============================] - 0s 3ms/step - loss: 10.6709\n",
            "Epoch 10/100\n",
            "37/37 [==============================] - 0s 3ms/step - loss: 10.6102\n",
            "Epoch 11/100\n",
            "37/37 [==============================] - 0s 3ms/step - loss: 11.0237\n",
            "Epoch 12/100\n",
            "37/37 [==============================] - 0s 3ms/step - loss: 10.9319\n",
            "Epoch 13/100\n",
            "37/37 [==============================] - 0s 3ms/step - loss: 12.0620\n",
            "Epoch 14/100\n",
            "37/37 [==============================] - 0s 3ms/step - loss: 13.7745\n",
            "Epoch 15/100\n",
            "37/37 [==============================] - 0s 3ms/step - loss: 9.7711\n",
            "Epoch 16/100\n",
            "37/37 [==============================] - 0s 3ms/step - loss: 9.8704\n",
            "Epoch 17/100\n",
            "37/37 [==============================] - 0s 3ms/step - loss: 9.8563\n",
            "Epoch 18/100\n",
            "37/37 [==============================] - 0s 3ms/step - loss: 11.1488\n",
            "Epoch 19/100\n",
            "37/37 [==============================] - 0s 3ms/step - loss: 10.7136\n",
            "Epoch 20/100\n",
            "37/37 [==============================] - 0s 3ms/step - loss: 11.1094\n",
            "Epoch 21/100\n",
            "37/37 [==============================] - 0s 3ms/step - loss: 9.3175\n",
            "Epoch 22/100\n",
            "37/37 [==============================] - 0s 3ms/step - loss: 12.1870\n",
            "Epoch 23/100\n",
            "37/37 [==============================] - 0s 3ms/step - loss: 9.0561\n",
            "Epoch 24/100\n",
            "37/37 [==============================] - 0s 3ms/step - loss: 9.8268\n",
            "Epoch 25/100\n",
            "37/37 [==============================] - 0s 3ms/step - loss: 9.5913\n",
            "Epoch 26/100\n",
            "37/37 [==============================] - 0s 3ms/step - loss: 9.1019\n",
            "Epoch 27/100\n",
            "37/37 [==============================] - 0s 3ms/step - loss: 9.2967\n",
            "Epoch 28/100\n",
            "37/37 [==============================] - 0s 3ms/step - loss: 9.9087\n",
            "Epoch 29/100\n",
            "37/37 [==============================] - 0s 3ms/step - loss: 9.8909\n",
            "Epoch 30/100\n",
            "37/37 [==============================] - 0s 3ms/step - loss: 10.7190\n",
            "Epoch 31/100\n",
            "37/37 [==============================] - 0s 3ms/step - loss: 10.2610\n",
            "Epoch 32/100\n",
            "37/37 [==============================] - 0s 3ms/step - loss: 9.9532\n",
            "Epoch 33/100\n",
            "37/37 [==============================] - 0s 3ms/step - loss: 10.1308\n",
            "Epoch 34/100\n",
            "37/37 [==============================] - 0s 3ms/step - loss: 11.2385\n",
            "Epoch 35/100\n",
            "37/37 [==============================] - 0s 3ms/step - loss: 13.0138\n",
            "Epoch 36/100\n",
            "37/37 [==============================] - 0s 3ms/step - loss: 11.1476\n",
            "Epoch 37/100\n",
            "37/37 [==============================] - 0s 3ms/step - loss: 10.0419\n",
            "Epoch 38/100\n",
            "37/37 [==============================] - 0s 4ms/step - loss: 11.4780\n",
            "Epoch 39/100\n",
            "37/37 [==============================] - 0s 3ms/step - loss: 9.3794\n",
            "Epoch 40/100\n",
            "37/37 [==============================] - 0s 3ms/step - loss: 13.1522\n",
            "Epoch 41/100\n",
            "37/37 [==============================] - 0s 3ms/step - loss: 13.3858\n",
            "Epoch 42/100\n",
            "37/37 [==============================] - 0s 3ms/step - loss: 10.4735\n",
            "Epoch 43/100\n",
            "37/37 [==============================] - 0s 3ms/step - loss: 10.4580\n",
            "Epoch 44/100\n",
            "37/37 [==============================] - 0s 3ms/step - loss: 10.1998\n",
            "Epoch 45/100\n",
            "37/37 [==============================] - 0s 3ms/step - loss: 12.4979\n",
            "Epoch 46/100\n",
            "37/37 [==============================] - 0s 3ms/step - loss: 10.2555\n",
            "Epoch 47/100\n",
            "37/37 [==============================] - 0s 3ms/step - loss: 12.7253\n",
            "Epoch 48/100\n",
            "37/37 [==============================] - 0s 3ms/step - loss: 12.1632\n",
            "Epoch 49/100\n",
            "37/37 [==============================] - 0s 3ms/step - loss: 9.8892\n",
            "Epoch 50/100\n",
            "37/37 [==============================] - 0s 3ms/step - loss: 12.0931\n",
            "Epoch 51/100\n",
            "37/37 [==============================] - 0s 3ms/step - loss: 11.6003\n",
            "Epoch 52/100\n",
            "37/37 [==============================] - 0s 3ms/step - loss: 11.4964\n",
            "Epoch 53/100\n",
            "37/37 [==============================] - 0s 3ms/step - loss: 12.8406\n",
            "Epoch 54/100\n",
            "37/37 [==============================] - 0s 3ms/step - loss: 11.2606\n",
            "Epoch 55/100\n",
            "37/37 [==============================] - 0s 4ms/step - loss: 15.1261\n",
            "Epoch 56/100\n",
            "37/37 [==============================] - 0s 3ms/step - loss: 11.7959\n",
            "Epoch 57/100\n",
            "37/37 [==============================] - 0s 3ms/step - loss: 9.2987\n",
            "Epoch 58/100\n",
            "37/37 [==============================] - 0s 3ms/step - loss: 13.4835\n",
            "Epoch 59/100\n",
            "37/37 [==============================] - 0s 3ms/step - loss: 13.7280\n",
            "Epoch 60/100\n",
            "37/37 [==============================] - 0s 3ms/step - loss: 9.6292\n",
            "Epoch 61/100\n",
            "37/37 [==============================] - 0s 4ms/step - loss: 11.2416\n",
            "Epoch 62/100\n",
            "37/37 [==============================] - 0s 4ms/step - loss: 12.5712\n",
            "Epoch 63/100\n",
            "37/37 [==============================] - 0s 3ms/step - loss: 8.7575\n",
            "Epoch 64/100\n",
            "37/37 [==============================] - 0s 3ms/step - loss: 13.3151\n",
            "Epoch 65/100\n",
            "37/37 [==============================] - 0s 3ms/step - loss: 11.6340\n",
            "Epoch 66/100\n",
            "37/37 [==============================] - 0s 3ms/step - loss: 9.9126\n",
            "Epoch 67/100\n",
            "37/37 [==============================] - 0s 3ms/step - loss: 14.8380\n",
            "Epoch 68/100\n",
            "37/37 [==============================] - 0s 3ms/step - loss: 10.3851\n",
            "Epoch 69/100\n",
            "37/37 [==============================] - 0s 3ms/step - loss: 12.1887\n",
            "Epoch 70/100\n",
            "37/37 [==============================] - 0s 3ms/step - loss: 10.5879\n",
            "Epoch 71/100\n",
            "37/37 [==============================] - 0s 3ms/step - loss: 10.1768\n",
            "Epoch 72/100\n",
            "37/37 [==============================] - 0s 3ms/step - loss: 19.8212\n",
            "Epoch 73/100\n",
            "37/37 [==============================] - 0s 3ms/step - loss: 15.3982\n",
            "Epoch 74/100\n",
            "37/37 [==============================] - 0s 3ms/step - loss: 10.3433\n",
            "Epoch 75/100\n",
            "37/37 [==============================] - 0s 3ms/step - loss: 11.4580\n",
            "Epoch 76/100\n",
            "37/37 [==============================] - 0s 3ms/step - loss: 10.4141\n",
            "Epoch 77/100\n",
            "37/37 [==============================] - 0s 3ms/step - loss: 10.0720\n",
            "Epoch 78/100\n",
            "37/37 [==============================] - 0s 3ms/step - loss: 9.0673\n",
            "Epoch 79/100\n",
            "37/37 [==============================] - 0s 3ms/step - loss: 8.7319\n",
            "Epoch 80/100\n",
            "37/37 [==============================] - 0s 3ms/step - loss: 8.8836\n",
            "Epoch 81/100\n",
            "37/37 [==============================] - 0s 3ms/step - loss: 10.4645\n",
            "Epoch 82/100\n",
            "37/37 [==============================] - 0s 3ms/step - loss: 18.3118\n",
            "Epoch 83/100\n",
            "37/37 [==============================] - 0s 3ms/step - loss: 23.3035\n",
            "Epoch 84/100\n",
            "37/37 [==============================] - 0s 3ms/step - loss: 12.3375\n",
            "Epoch 85/100\n",
            "37/37 [==============================] - 0s 3ms/step - loss: 9.9958\n",
            "Epoch 86/100\n",
            "37/37 [==============================] - 0s 3ms/step - loss: 10.5900\n",
            "Epoch 87/100\n",
            "37/37 [==============================] - 0s 3ms/step - loss: 10.6324\n",
            "Epoch 88/100\n",
            "37/37 [==============================] - 0s 4ms/step - loss: 9.5401\n",
            "Epoch 89/100\n",
            "37/37 [==============================] - 0s 4ms/step - loss: 10.1030\n",
            "Epoch 90/100\n",
            "37/37 [==============================] - 0s 3ms/step - loss: 9.8781\n",
            "Epoch 91/100\n",
            "37/37 [==============================] - 0s 3ms/step - loss: 8.9774\n",
            "Epoch 92/100\n",
            "37/37 [==============================] - 0s 3ms/step - loss: 9.2782\n",
            "Epoch 93/100\n",
            "37/37 [==============================] - 0s 4ms/step - loss: 15.4998\n",
            "Epoch 94/100\n",
            "37/37 [==============================] - 0s 4ms/step - loss: 9.1175\n",
            "Epoch 95/100\n",
            "37/37 [==============================] - 0s 3ms/step - loss: 9.0151\n",
            "Epoch 96/100\n",
            "37/37 [==============================] - 0s 3ms/step - loss: 9.1510\n",
            "Epoch 97/100\n",
            "37/37 [==============================] - 0s 3ms/step - loss: 10.7902\n",
            "Epoch 98/100\n",
            "37/37 [==============================] - 0s 3ms/step - loss: 9.8219\n",
            "Epoch 99/100\n",
            "37/37 [==============================] - 0s 3ms/step - loss: 9.3297\n",
            "Epoch 100/100\n",
            "37/37 [==============================] - 0s 3ms/step - loss: 11.3215\n"
          ]
        }
      ]
    },
    {
      "cell_type": "code",
      "source": [
        "forecast = model_forecast(model,y_deaths[train_size-look_back:-1],look_back)\n",
        "forecast = forecast[:,0]"
      ],
      "metadata": {
        "id": "8Thrx6Wrsj3y"
      },
      "execution_count": null,
      "outputs": []
    },
    {
      "cell_type": "code",
      "source": [
        "plt.figure(figsize = (12,7))\n",
        "plt.plot(forecast,label = 'Forecasted Deaths')\n",
        "plt.plot(deaths[train_size:],label = 'Actual Deaths')\n",
        "plt.legend(loc = 'upper left')\n",
        "plt.legend()\n",
        "plt.xlabel('Days')\n",
        "plt.ylabel('Deaths/day')\n",
        "plt.title('Predicted Deaths vs Actual Deaths in Taiwan')\n",
        "plt.show()\n",
        "\n",
        "print(forecast)\n",
        "print(deaths[train_size:])"
      ],
      "metadata": {
        "colab": {
          "base_uri": "https://localhost:8080/",
          "height": 1000
        },
        "id": "pQ4BCvlZsXPA",
        "outputId": "557b5383-8609-4803-f65d-028f89f93481"
      },
      "execution_count": null,
      "outputs": [
        {
          "output_type": "display_data",
          "data": {
            "image/png": "[encoded data removed]",
            "text/plain": [
              "<Figure size 864x504 with 1 Axes>"
            ]
          },
          "metadata": {
            "needs_background": "light"
          }
        },
        {
          "output_type": "stream",
          "name": "stdout",
          "text": [
            "[ 7.9590564  7.9590564  7.9590564  7.9590564  7.9590564  7.9590564\n",
            "  7.9590564  7.9590564  7.9590564  7.9590564  7.9590564  7.9590564\n",
            "  7.9590564  7.9590564  7.9590564  7.9590564  7.9590564  7.9590564\n",
            "  7.9590564  7.9590564  7.9590564  7.9590564  7.9590564  7.9590564\n",
            "  7.9590564  7.9590564  7.9590564  7.9590564  7.9590564  7.9590564\n",
            "  7.959058   7.959058   7.9590564  7.9590564  7.9590564  7.9590564\n",
            "  7.9590564  7.9590564  7.9590564  7.9590564  7.9590564  7.9590564\n",
            "  7.9590564  7.9590564  7.9590564  7.9590564  7.9590564  7.9590564\n",
            "  7.9590564  7.9590564  7.9590564  7.9590564  7.9590564  7.9590564\n",
            "  7.9590564  7.9590564  7.9590564  7.9590564  7.9590564  7.9590564\n",
            "  7.9590564  7.9590564  7.959058   7.959058   7.9590564  7.9590564\n",
            "  7.9590564  7.9590564  7.9590564  7.9590564  7.9590564  7.9590564\n",
            "  7.9590564  7.9590564  7.9590564  9.235977   9.181782   8.929775\n",
            "  8.929775   8.929775  10.168945  10.098411   9.881954   9.881954\n",
            "  9.881954   9.881954   9.881954   9.881954   9.881954   9.881954\n",
            "  9.881954   9.881954   9.881954   9.881954   9.881953   9.881953\n",
            "  9.881954   9.881954   9.881954   9.881954   9.881954   9.881954\n",
            "  9.881954   9.881954   9.881954   9.881954   9.881954   9.881954\n",
            "  9.881954   9.881954  11.074515  10.995258  10.790801  10.790801\n",
            " 10.790801  10.790801  10.790801  10.790801  10.790801  10.790801\n",
            " 10.790801  10.790801  10.790801  10.790801  10.790801  10.790801\n",
            " 10.790801  10.790801  10.790801  10.790801  10.790801  10.790801\n",
            " 10.790801  10.790801  10.790801  10.790801  10.790801  10.790801\n",
            " 10.790801  10.790801  10.790801  10.790801  10.790801  10.790801\n",
            " 10.790801  10.790801  11.970054  11.8882265 11.680264  11.680264\n",
            " 11.680264  11.680264  11.680264  11.680264  11.680264  11.680264\n",
            " 11.680264  11.680264  11.6802635 12.868602  12.788405  12.581118\n",
            " 12.581118  12.581118  12.581118  12.581118  12.581118  12.581118\n",
            " 12.581118  12.581118  12.581118  12.581118  12.581118  12.581118\n",
            " 12.581118  12.581118  12.581118  12.581118  12.581118  12.581118\n",
            " 12.581118  12.581118  12.581118  14.886238  14.829712  15.681351\n",
            " 15.6166935 17.567932  21.791565  27.134907  33.803047  43.840088\n",
            " 56.48755   74.936745 ]\n",
            "[ 7.  7.  7.  7.  7.  7.  7.  7.  7.  7.  7.  7.  7.  7.  7.  7.  7.  7.\n",
            "  7.  7.  7.  7.  7.  7.  7.  7.  7.  7.  7.  7.  7.  7.  7.  7.  7.  7.\n",
            "  7.  7.  7.  7.  7.  7.  7.  7.  7.  7.  7.  7.  7.  7.  7.  7.  7.  7.\n",
            "  7.  7.  7.  7.  7.  7.  7.  7.  7.  7.  7.  7.  7.  7.  7.  7.  7.  7.\n",
            "  7.  7.  8.  8.  8.  8.  8.  9.  9.  9.  9.  9.  9.  9.  9.  9.  9.  9.\n",
            "  9.  9.  9.  9.  9.  9.  9.  9.  9.  9.  9.  9.  9.  9.  9.  9.  9.  9.\n",
            "  9. 10. 10. 10. 10. 10. 10. 10. 10. 10. 10. 10. 10. 10. 10. 10. 10. 10.\n",
            " 10. 10. 10. 10. 10. 10. 10. 10. 10. 10. 10. 10. 10. 10. 10. 10. 10. 10.\n",
            " 10. 11. 11. 11. 11. 11. 11. 11. 11. 11. 11. 11. 11. 11. 12. 12. 12. 12.\n",
            " 12. 12. 12. 12. 12. 12. 12. 12. 12. 12. 12. 12. 12. 12. 12. 12. 12. 12.\n",
            " 12. 12. 14. 14. 15. 15. 17. 23. 29. 35. 46. 59. 78. 99.]\n"
          ]
        }
      ]
    },
    {
      "cell_type": "markdown",
      "source": [
        "Recovered TimeSeries Analysis Taiwan"
      ],
      "metadata": {
        "id": "sctvCct0YJoX"
      }
    },
    {
      "cell_type": "code",
      "source": [
        "recovered = y_recovered"
      ],
      "metadata": {
        "id": "n3OosoH3szQT"
      },
      "execution_count": null,
      "outputs": []
    },
    {
      "cell_type": "code",
      "source": [
        "# split into train and test sets\n",
        "train_size = 300\n",
        "test_size = len(y_recovered) - train_size\n",
        "trainX,testX = X[0:train_size],X[train_size:]\n",
        "trainY, testY = y_recovered[0:train_size], y_recovered[train_size:]"
      ],
      "metadata": {
        "id": "uIBXlLVY2DY4"
      },
      "execution_count": null,
      "outputs": []
    },
    {
      "cell_type": "code",
      "source": [
        "look_back = 3\n",
        "trainX, trainY = create_dataset(trainY, look_back)\n",
        "testX, testY = create_dataset(testY, look_back)"
      ],
      "metadata": {
        "id": "AQgkecF9YOAS"
      },
      "execution_count": null,
      "outputs": []
    },
    {
      "cell_type": "code",
      "source": [
        "print(trainX.shape,trainY.shape,testX.shape, testY.shape)"
      ],
      "metadata": {
        "colab": {
          "base_uri": "https://localhost:8080/"
        },
        "id": "QNhqFfrK2PYZ",
        "outputId": "5f2ec295-63f2-497a-d6ab-66739f7c1e34"
      },
      "execution_count": null,
      "outputs": [
        {
          "output_type": "stream",
          "name": "stdout",
          "text": [
            "(296, 3) (296,) (190, 3) (190,)\n"
          ]
        }
      ]
    },
    {
      "cell_type": "code",
      "source": [
        "model = Sequential()\n",
        "model.add(LSTM(20, input_shape=(look_back, 1), activation='relu'))\n",
        "model.add(Dense(64, activation='relu'))\n",
        "model.add(Dense(8, activation='relu'))\n",
        "model.add(Dense(1))\n",
        "#model.compile(loss='mean_squared_error', optimizer='adam')\n",
        "model.compile(loss='MSE', optimizer='adam')\n",
        "history = model.fit(trainX, trainY, epochs=100, batch_size=8)"
      ],
      "metadata": {
        "colab": {
          "base_uri": "https://localhost:8080/"
        },
        "id": "MIvY50A3tMtp",
        "outputId": "7701f075-d3b9-4296-c8df-d48866485761"
      },
      "execution_count": null,
      "outputs": [
        {
          "output_type": "stream",
          "name": "stdout",
          "text": [
            "Epoch 1/100\n",
            "37/37 [==============================] - 1s 3ms/step - loss: 74583.9062\n",
            "Epoch 2/100\n",
            "37/37 [==============================] - 0s 3ms/step - loss: 7375.2222\n",
            "Epoch 3/100\n",
            "37/37 [==============================] - 0s 3ms/step - loss: 113.7061\n",
            "Epoch 4/100\n",
            "37/37 [==============================] - 0s 3ms/step - loss: 25.8236\n",
            "Epoch 5/100\n",
            "37/37 [==============================] - 0s 3ms/step - loss: 22.6953\n",
            "Epoch 6/100\n",
            "37/37 [==============================] - 0s 3ms/step - loss: 21.3178\n",
            "Epoch 7/100\n",
            "37/37 [==============================] - 0s 3ms/step - loss: 19.3481\n",
            "Epoch 8/100\n",
            "37/37 [==============================] - 0s 3ms/step - loss: 15.6322\n",
            "Epoch 9/100\n",
            "37/37 [==============================] - 0s 3ms/step - loss: 15.9164\n",
            "Epoch 10/100\n",
            "37/37 [==============================] - 0s 3ms/step - loss: 17.1479\n",
            "Epoch 11/100\n",
            "37/37 [==============================] - 0s 3ms/step - loss: 14.5903\n",
            "Epoch 12/100\n",
            "37/37 [==============================] - 0s 3ms/step - loss: 12.7536\n",
            "Epoch 13/100\n",
            "37/37 [==============================] - 0s 3ms/step - loss: 13.7544\n",
            "Epoch 14/100\n",
            "37/37 [==============================] - 0s 3ms/step - loss: 12.8086\n",
            "Epoch 15/100\n",
            "37/37 [==============================] - 0s 3ms/step - loss: 13.7446\n",
            "Epoch 16/100\n",
            "37/37 [==============================] - 0s 3ms/step - loss: 11.8988\n",
            "Epoch 17/100\n",
            "37/37 [==============================] - 0s 3ms/step - loss: 11.7246\n",
            "Epoch 18/100\n",
            "37/37 [==============================] - 0s 3ms/step - loss: 12.0462\n",
            "Epoch 19/100\n",
            "37/37 [==============================] - 0s 3ms/step - loss: 11.4661\n",
            "Epoch 20/100\n",
            "37/37 [==============================] - 0s 3ms/step - loss: 13.2694\n",
            "Epoch 21/100\n",
            "37/37 [==============================] - 0s 3ms/step - loss: 11.6356\n",
            "Epoch 22/100\n",
            "37/37 [==============================] - 0s 3ms/step - loss: 12.4823\n",
            "Epoch 23/100\n",
            "37/37 [==============================] - 0s 3ms/step - loss: 12.3851\n",
            "Epoch 24/100\n",
            "37/37 [==============================] - 0s 3ms/step - loss: 11.2601\n",
            "Epoch 25/100\n",
            "37/37 [==============================] - 0s 3ms/step - loss: 10.7955\n",
            "Epoch 26/100\n",
            "37/37 [==============================] - 0s 3ms/step - loss: 10.2605\n",
            "Epoch 27/100\n",
            "37/37 [==============================] - 0s 3ms/step - loss: 10.3907\n",
            "Epoch 28/100\n",
            "37/37 [==============================] - 0s 3ms/step - loss: 10.2583\n",
            "Epoch 29/100\n",
            "37/37 [==============================] - 0s 4ms/step - loss: 10.9591\n",
            "Epoch 30/100\n",
            "37/37 [==============================] - 0s 3ms/step - loss: 10.6475\n",
            "Epoch 31/100\n",
            "37/37 [==============================] - 0s 3ms/step - loss: 10.9634\n",
            "Epoch 32/100\n",
            "37/37 [==============================] - 0s 3ms/step - loss: 11.1392\n",
            "Epoch 33/100\n",
            "37/37 [==============================] - 0s 3ms/step - loss: 10.6189\n",
            "Epoch 34/100\n",
            "37/37 [==============================] - 0s 3ms/step - loss: 10.9077\n",
            "Epoch 35/100\n",
            "37/37 [==============================] - 0s 3ms/step - loss: 10.7448\n",
            "Epoch 36/100\n",
            "37/37 [==============================] - 0s 3ms/step - loss: 10.8313\n",
            "Epoch 37/100\n",
            "37/37 [==============================] - 0s 3ms/step - loss: 10.4285\n",
            "Epoch 38/100\n",
            "37/37 [==============================] - 0s 3ms/step - loss: 10.0452\n",
            "Epoch 39/100\n",
            "37/37 [==============================] - 0s 3ms/step - loss: 10.0577\n",
            "Epoch 40/100\n",
            "37/37 [==============================] - 0s 3ms/step - loss: 9.8563\n",
            "Epoch 41/100\n",
            "37/37 [==============================] - 0s 3ms/step - loss: 9.6784\n",
            "Epoch 42/100\n",
            "37/37 [==============================] - 0s 3ms/step - loss: 10.3177\n",
            "Epoch 43/100\n",
            "37/37 [==============================] - 0s 3ms/step - loss: 9.9622\n",
            "Epoch 44/100\n",
            "37/37 [==============================] - 0s 3ms/step - loss: 9.9864\n",
            "Epoch 45/100\n",
            "37/37 [==============================] - 0s 3ms/step - loss: 11.0837\n",
            "Epoch 46/100\n",
            "37/37 [==============================] - 0s 3ms/step - loss: 10.2795\n",
            "Epoch 47/100\n",
            "37/37 [==============================] - 0s 3ms/step - loss: 10.2667\n",
            "Epoch 48/100\n",
            "37/37 [==============================] - 0s 3ms/step - loss: 10.2546\n",
            "Epoch 49/100\n",
            "37/37 [==============================] - 0s 3ms/step - loss: 11.3366\n",
            "Epoch 50/100\n",
            "37/37 [==============================] - 0s 4ms/step - loss: 11.4854\n",
            "Epoch 51/100\n",
            "37/37 [==============================] - 0s 3ms/step - loss: 9.5492\n",
            "Epoch 52/100\n",
            "37/37 [==============================] - 0s 3ms/step - loss: 13.7241\n",
            "Epoch 53/100\n",
            "37/37 [==============================] - 0s 3ms/step - loss: 10.8160\n",
            "Epoch 54/100\n",
            "37/37 [==============================] - 0s 3ms/step - loss: 10.7121\n",
            "Epoch 55/100\n",
            "37/37 [==============================] - 0s 3ms/step - loss: 10.4422\n",
            "Epoch 56/100\n",
            "37/37 [==============================] - 0s 3ms/step - loss: 10.1736\n",
            "Epoch 57/100\n",
            "37/37 [==============================] - 0s 3ms/step - loss: 11.2546\n",
            "Epoch 58/100\n",
            "37/37 [==============================] - 0s 3ms/step - loss: 14.3503\n",
            "Epoch 59/100\n",
            "37/37 [==============================] - 0s 3ms/step - loss: 11.4493\n",
            "Epoch 60/100\n",
            "37/37 [==============================] - 0s 3ms/step - loss: 10.1675\n",
            "Epoch 61/100\n",
            "37/37 [==============================] - 0s 3ms/step - loss: 10.5024\n",
            "Epoch 62/100\n",
            "37/37 [==============================] - 0s 3ms/step - loss: 9.2356\n",
            "Epoch 63/100\n",
            "37/37 [==============================] - 0s 3ms/step - loss: 10.1311\n",
            "Epoch 64/100\n",
            "37/37 [==============================] - 0s 3ms/step - loss: 9.4793\n",
            "Epoch 65/100\n",
            "37/37 [==============================] - 0s 3ms/step - loss: 9.2648\n",
            "Epoch 66/100\n",
            "37/37 [==============================] - 0s 3ms/step - loss: 9.6700\n",
            "Epoch 67/100\n",
            "37/37 [==============================] - 0s 3ms/step - loss: 9.3504\n",
            "Epoch 68/100\n",
            "37/37 [==============================] - 0s 3ms/step - loss: 9.3562\n",
            "Epoch 69/100\n",
            "37/37 [==============================] - 0s 3ms/step - loss: 9.8482\n",
            "Epoch 70/100\n",
            "37/37 [==============================] - 0s 3ms/step - loss: 11.4432\n",
            "Epoch 71/100\n",
            "37/37 [==============================] - 0s 3ms/step - loss: 10.1199\n",
            "Epoch 72/100\n",
            "37/37 [==============================] - 0s 3ms/step - loss: 10.4734\n",
            "Epoch 73/100\n",
            "37/37 [==============================] - 0s 3ms/step - loss: 9.7396\n",
            "Epoch 74/100\n",
            "37/37 [==============================] - 0s 3ms/step - loss: 10.0430\n",
            "Epoch 75/100\n",
            "37/37 [==============================] - 0s 3ms/step - loss: 8.8815\n",
            "Epoch 76/100\n",
            "37/37 [==============================] - 0s 3ms/step - loss: 10.9190\n",
            "Epoch 77/100\n",
            "37/37 [==============================] - 0s 3ms/step - loss: 10.8251\n",
            "Epoch 78/100\n",
            "37/37 [==============================] - 0s 4ms/step - loss: 11.4308\n",
            "Epoch 79/100\n",
            "37/37 [==============================] - 0s 4ms/step - loss: 10.1732\n",
            "Epoch 80/100\n",
            "37/37 [==============================] - 0s 3ms/step - loss: 9.9498\n",
            "Epoch 81/100\n",
            "37/37 [==============================] - 0s 3ms/step - loss: 9.5128\n",
            "Epoch 82/100\n",
            "37/37 [==============================] - 0s 3ms/step - loss: 10.2150\n",
            "Epoch 83/100\n",
            "37/37 [==============================] - 0s 3ms/step - loss: 10.7347\n",
            "Epoch 84/100\n",
            "37/37 [==============================] - 0s 3ms/step - loss: 10.0657\n",
            "Epoch 85/100\n",
            "37/37 [==============================] - 0s 3ms/step - loss: 12.3557\n",
            "Epoch 86/100\n",
            "37/37 [==============================] - 0s 4ms/step - loss: 13.2343\n",
            "Epoch 87/100\n",
            "37/37 [==============================] - 0s 3ms/step - loss: 10.3955\n",
            "Epoch 88/100\n",
            "37/37 [==============================] - 0s 3ms/step - loss: 9.5497\n",
            "Epoch 89/100\n",
            "37/37 [==============================] - 0s 3ms/step - loss: 10.5566\n",
            "Epoch 90/100\n",
            "37/37 [==============================] - 0s 3ms/step - loss: 9.4719\n",
            "Epoch 91/100\n",
            "37/37 [==============================] - 0s 3ms/step - loss: 10.4600\n",
            "Epoch 92/100\n",
            "37/37 [==============================] - 0s 3ms/step - loss: 10.9499\n",
            "Epoch 93/100\n",
            "37/37 [==============================] - 0s 3ms/step - loss: 10.8505\n",
            "Epoch 94/100\n",
            "37/37 [==============================] - 0s 3ms/step - loss: 9.1323\n",
            "Epoch 95/100\n",
            "37/37 [==============================] - 0s 3ms/step - loss: 8.9193\n",
            "Epoch 96/100\n",
            "37/37 [==============================] - 0s 3ms/step - loss: 10.6638\n",
            "Epoch 97/100\n",
            "37/37 [==============================] - 0s 3ms/step - loss: 9.3889\n",
            "Epoch 98/100\n",
            "37/37 [==============================] - 0s 3ms/step - loss: 10.2910\n",
            "Epoch 99/100\n",
            "37/37 [==============================] - 0s 3ms/step - loss: 9.8377\n",
            "Epoch 100/100\n",
            "37/37 [==============================] - 0s 3ms/step - loss: 10.9203\n"
          ]
        }
      ]
    },
    {
      "cell_type": "code",
      "source": [
        "forecast = model_forecast(model,y_recovered[train_size-look_back:-1],look_back)\n",
        "forecast = forecast[:,0]"
      ],
      "metadata": {
        "id": "zlYh0QB5YVT3"
      },
      "execution_count": null,
      "outputs": []
    },
    {
      "cell_type": "code",
      "source": [
        "plt.figure(figsize = (12,7))\n",
        "plt.plot(forecast,label = 'Forecasted Recovered')\n",
        "plt.plot(recovered[train_size:],label = 'Actual Recovered')\n",
        "plt.legend(loc = 'upper left')\n",
        "plt.legend()\n",
        "plt.xlabel('Days')\n",
        "plt.ylabel('Recovered/day')\n",
        "plt.title('Predicted Recovered vs Actual Recovered in Taiwan')\n",
        "plt.show()\n",
        "\n",
        "print(forecast)\n",
        "print(recovered[train_size:])"
      ],
      "metadata": {
        "colab": {
          "base_uri": "https://localhost:8080/",
          "height": 1000
        },
        "id": "66mIV2kBuF1b",
        "outputId": "a0dc5000-387a-4213-afb8-095615366be4"
      },
      "execution_count": null,
      "outputs": [
        {
          "output_type": "display_data",
          "data": {
            "image/png": "[encoded data removed]",
            "text/plain": [
              "<Figure size 864x504 with 1 Axes>"
            ]
          },
          "metadata": {
            "needs_background": "light"
          }
        },
        {
          "output_type": "stream",
          "name": "stdout",
          "text": [
            "[ 534.6279   536.1029   538.3089   541.2874   543.6524   544.4513\n",
            "  545.4648   546.7859   547.4006   549.3346   551.9812   553.2106\n",
            "  553.85394  558.43036  562.4245   564.6177   566.841    568.9017\n",
            "  569.9515   571.0525   571.92255  572.1023   575.7862   580.6586\n",
            "  584.9832   589.74005  595.1365   600.5133   603.23785  605.97864\n",
            "  608.639    611.3581   614.58887  619.023    622.8532   624.25653\n",
            "  626.7327   630.32385  632.0828   634.6446   640.0809   646.3764\n",
            "  650.09937  654.28094  659.7773   664.8997   672.61505  679.77985\n",
            "  683.87683  688.77655  692.612    695.0322   700.1387   706.7255\n",
            "  712.843    716.02924  719.29816  723.82104  726.57477  727.35846\n",
            "  732.04767  741.12476  748.2818   751.37177  756.76     762.70294\n",
            "  768.5684   772.40375  775.8365   780.3668   782.6615   787.60114\n",
            "  794.8468   801.1357   806.1697   813.06976  821.11304  825.0882\n",
            "  826.59326  828.41156  831.77826  835.1099   837.3454   838.8702\n",
            "  841.3277   844.1274   846.74005  851.0163   853.95953  854.4598\n",
            "  854.4598   854.4598   854.4598   863.6696   875.873    881.6027\n",
            "  885.38635  887.79834  888.2148   888.2148   890.97766  896.8957\n",
            "  900.5392   906.1874   912.04913  913.8631   914.0296   917.2531\n",
            "  921.3184   922.79944  924.808    926.60474  926.9377   926.9377\n",
            "  928.7796   930.5765   933.6722   936.36774  940.5511   944.60565\n",
            "  945.7204   948.10626  951.27344  953.0487   954.5853   956.4881\n",
            "  957.553    960.48236  963.17816  964.59827  966.4179   969.78534\n",
            "  972.65894  973.5241   974.5283   975.427    976.5142   979.2548\n",
            "  983.5211   988.403    994.2891   997.8506   999.81415 1001.1623\n",
            " 1006.47723 1012.3415  1015.07605 1017.983   1020.4074  1022.11035\n",
            " 1024.0134  1025.539   1026.6152  1027.1477  1027.6914  1029.9828\n",
            " 1031.8635  1033.5776  1036.3074  1038.3655  1039.0643  1039.6082\n",
            " 1041.8994  1043.7802  1044.5732  1045.9438  1046.9258  1048.0132\n",
            " 1050.2933  1055.9523  1063.4701  1067.8248  1069.7773  1073.0618\n",
            " 1078.6989  1082.2605  1084.6846  1088.3243  1092.7571  1097.6395\n",
            " 1104.4468  1108.9077  1112.8793  1117.8674  1123.0101  1126.0397\n",
            " 1126.5382  1126.5382  1126.5382  1126.5382  1126.5382  1126.5382\n",
            " 1126.5382  1126.5382 ]\n",
            "[ 539.  541.  545.  546.  546.  548.  549.  549.  553.  555.  555.  556.\n",
            "  565.  565.  568.  570.  572.  572.  574.  574.  574.  582.  585.  590.\n",
            "  595.  601.  606.  606.  611.  612.  616.  619.  625.  627.  627.  632.\n",
            "  635.  635.  640.  647.  653.  654.  661.  666.  671.  682.  686.  689.\n",
            "  696.  697.  700.  708.  714.  720.  720.  726.  730.  731.  731.  741.\n",
            "  751.  755.  756.  766.  769.  777.  777.  783.  787.  787.  797.  803.\n",
            "  809.  813.  823.  830.  830.  832.  834.  839.  841.  843.  844.  848.\n",
            "  850.  853.  859.  859.  859.  859.  859.  859.  879.  886.  888.  893.\n",
            "  893.  893.  893.  899.  906.  906.  917.  919.  919.  919.  926.  928.\n",
            "  928.  932.  932.  932.  932.  936.  936.  942.  942.  950.  951.  951.\n",
            "  956.  958.  959.  961.  963.  963.  969.  969.  971.  973.  978.  979.\n",
            "  979.  981.  981.  983.  987.  992.  997. 1004. 1004. 1007. 1007. 1018.\n",
            " 1020. 1022. 1026. 1027. 1029. 1031. 1032. 1033. 1033. 1034. 1038. 1038.\n",
            " 1041. 1044. 1045. 1045. 1046. 1050. 1050. 1051. 1053. 1053. 1055. 1058.\n",
            " 1067. 1074. 1075. 1077. 1082. 1089. 1089. 1093. 1097. 1102. 1107. 1116.\n",
            " 1116. 1123. 1127. 1133. 1133. 1133. 1133. 1133. 1133. 1133. 1133. 1133.\n",
            " 1133. 1133.]\n"
          ]
        }
      ]
    }
  ]
}